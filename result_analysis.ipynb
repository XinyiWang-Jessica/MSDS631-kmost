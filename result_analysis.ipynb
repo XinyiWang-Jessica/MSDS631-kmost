{
 "cells": [
  {
   "cell_type": "code",
   "execution_count": 1,
   "id": "b2731bef-0e5b-484b-b1db-59055bdcd871",
   "metadata": {},
   "outputs": [],
   "source": [
    "%load_ext autoreload\n",
    "%autoreload 2"
   ]
  },
  {
   "cell_type": "code",
   "execution_count": 2,
   "id": "a4460f04-f882-470c-b352-a3b3617dc531",
   "metadata": {},
   "outputs": [],
   "source": [
    "from k_popular_words import KMostPopularWords\n",
    "from single_task import KMostSingle\n",
    "from utils import ExperimentRunner"
   ]
  },
  {
   "cell_type": "code",
   "execution_count": 3,
   "id": "61e4d3d0-2c85-4532-853c-ed462575f472",
   "metadata": {},
   "outputs": [],
   "source": [
    "files = [\"data/data_300MB.txt\", \"data/data_2.5GB.txt\", \"data/data_16GB.txt\"]\n",
    "experiment_runner = ExperimentRunner()\n",
    "\n",
    "k = 10\n",
    "chunk_size = 400*1024*1024\n",
    "num_threads = 8\n"
   ]
  },
  {
   "cell_type": "markdown",
   "id": "387ee435-3a90-41e9-a797-81d43065902b",
   "metadata": {},
   "source": [
    "# Case 1: \n",
    "- Run as single task (without multi-thread and chunking\n",
    "- Sorting Algorithm: python sort (Tim Sort)"
   ]
  },
  {
   "cell_type": "code",
   "execution_count": 55,
   "id": "82606a15-3fcd-4dbc-8df4-d8fd55869f56",
   "metadata": {},
   "outputs": [],
   "source": [
    "result1 = {}"
   ]
  },
  {
   "cell_type": "code",
   "execution_count": 56,
   "id": "09852eef-266a-4414-a151-14732988bf67",
   "metadata": {},
   "outputs": [
    {
     "name": "stdout",
     "output_type": "stream",
     "text": [
      "Running experiment: Baselinedata/data_300MB.txt\n",
      "Runtime: 32.29 seconds\n",
      "CPU Utilization: 2.40%\n",
      "Memory Usage: 3960.16 MB\n",
      "[32.29279828071594, 2.4, 3960.15625]\n",
      "[('european', 318532), ('mr', 210638), ('would', 181905), ('also', 180117), ('commission', 172768), ('must', 156850), ('president', 152132), ('union', 130292), ('states', 129472), ('member', 126221)]\n",
      "Running experiment: Baselinedata/data_2.5GB.txt\n",
      "Running experiment: Baselinedata/data_16GB.txt\n"
     ]
    }
   ],
   "source": [
    "for file_path in files:\n",
    "    try: \n",
    "        k_most = KMostPopularWords(file_path)\n",
    "        baseline_result = experiment_runner.run_experiment(\"Baseline\"+file_path, k_most.get_top_k_words_baseline, k)\n",
    "        print(experiment_runner.measure)\n",
    "        print(baseline_result)\n",
    "        result1[file_path] = experiment_runner.measure\n",
    "    except ValueError:\n",
    "        result1[file_path] = [None, None, None]\n"
   ]
  },
  {
   "cell_type": "code",
   "execution_count": 57,
   "id": "bc7393e9-9eea-4adf-8f0d-cf87c7cb7be9",
   "metadata": {},
   "outputs": [
    {
     "data": {
      "text/plain": [
       "{'data/data_300MB.txt': [32.29279828071594, 2.4, 3960.15625],\n",
       " 'data/data_2.5GB.txt': [None, None, None],\n",
       " 'data/data_16GB.txt': [None, None, None]}"
      ]
     },
     "execution_count": 57,
     "metadata": {},
     "output_type": "execute_result"
    }
   ],
   "source": [
    "result1"
   ]
  },
  {
   "cell_type": "markdown",
   "id": "aafe121d-632d-4f66-b046-70e3de63bb0f",
   "metadata": {},
   "source": [
    "# Case 2: \n",
    "- Run as single task (without multi-thread and chunking\n",
    "- Sorting Algorithm: python heapq nlargest ( Sort)"
   ]
  },
  {
   "cell_type": "code",
   "execution_count": 7,
   "id": "357470db-a540-4f32-824a-d0192ac70f2d",
   "metadata": {},
   "outputs": [],
   "source": [
    "result2 = {}"
   ]
  },
  {
   "cell_type": "code",
   "execution_count": 20,
   "id": "8a506ae4-1cfd-4014-983c-d67d50e4a6ad",
   "metadata": {},
   "outputs": [
    {
     "name": "stdout",
     "output_type": "stream",
     "text": [
      "Running experiment: Baselinedata/data_300MB.txt\n",
      "Runtime: 32.88 seconds\n",
      "CPU Utilization: 2.40%\n",
      "Memory Usage: 4410.62 MB\n",
      "[32.88312292098999, 2.4, 4410.62109375]\n",
      "[('european', 318532), ('mr', 210638), ('would', 181905), ('also', 180117), ('commission', 172768), ('must', 156850), ('president', 152132), ('union', 130292), ('states', 129472), ('member', 126221)]\n",
      "Running experiment: Baselinedata/data_2.5GB.txt\n",
      "Running experiment: Baselinedata/data_16GB.txt\n"
     ]
    }
   ],
   "source": [
    "for file_path in files:\n",
    "    try: \n",
    "        k_most = KMostPopularWords(file_path)\n",
    "        baseline_result = experiment_runner.run_experiment(\"Baseline\"+file_path, k_most.get_top_k_words_baseline2, k)\n",
    "        print(experiment_runner.measure)\n",
    "        print(baseline_result)\n",
    "        result2[file_path] = experiment_runner.measure\n",
    "    except ValueError:\n",
    "        result2[file_path] = [None, None, None]"
   ]
  },
  {
   "cell_type": "code",
   "execution_count": 9,
   "id": "c2faab35-56fd-41ed-a058-c262a851afb9",
   "metadata": {},
   "outputs": [
    {
     "data": {
      "text/plain": [
       "{'data/data_300MB.txt': [33.04508399963379, 2.4, 1439.23828125],\n",
       " 'data/data_2.5GB.txt': [],\n",
       " 'data/data_16GB.txt': []}"
      ]
     },
     "execution_count": 9,
     "metadata": {},
     "output_type": "execute_result"
    }
   ],
   "source": [
    "result2"
   ]
  },
  {
   "cell_type": "markdown",
   "id": "2b789737-cd31-4994-a697-5b6e5535ef92",
   "metadata": {},
   "source": [
    "# Case 3:\n",
    "- Run as multi-tasks (with multi-thread and chunking)\n",
    "- Sorting Algorithm python sort (Tim Sort)"
   ]
  },
  {
   "cell_type": "code",
   "execution_count": 10,
   "id": "01b60e80-91ab-43d2-804d-38fd80fb6b02",
   "metadata": {},
   "outputs": [],
   "source": [
    "file_path = \"data/data_300MB.txt\"\n",
    "k_most = KMostPopularWords(file_path)"
   ]
  },
  {
   "cell_type": "code",
   "execution_count": 11,
   "id": "6afe1b1d-9a1f-4093-9df9-e488d224c956",
   "metadata": {},
   "outputs": [
    {
     "name": "stdout",
     "output_type": "stream",
     "text": [
      "Running experiment: Chunking\n",
      "Runtime: 17.22 seconds\n",
      "CPU Utilization: 2.40%\n",
      "Memory Usage: 1772.56 MB\n"
     ]
    },
    {
     "data": {
      "text/plain": [
       "[('european', 316722),\n",
       " ('mr', 210160),\n",
       " ('would', 179735),\n",
       " ('also', 175907),\n",
       " ('-', 162852),\n",
       " ('must', 153791),\n",
       " ('commission', 138407),\n",
       " ('president,', 125700),\n",
       " ('member', 124360),\n",
       " ('like', 108992)]"
      ]
     },
     "execution_count": 11,
     "metadata": {},
     "output_type": "execute_result"
    }
   ],
   "source": [
    "chunking_result = experiment_runner.run_experiment(\"Chunking\", k_most.get_top_k_words_chunk, k, chunk_size)\n",
    "chunking_result"
   ]
  },
  {
   "cell_type": "code",
   "execution_count": 12,
   "id": "823952f6-6a68-4cde-bbe7-e0cd1d77b6c5",
   "metadata": {},
   "outputs": [],
   "source": [
    "result3 = {}"
   ]
  },
  {
   "cell_type": "code",
   "execution_count": 13,
   "id": "ac6ec5f0-7df4-4fa2-8ab9-8bc17ec175c4",
   "metadata": {},
   "outputs": [
    {
     "name": "stdout",
     "output_type": "stream",
     "text": [
      "Running experiment: Chunking-data/data_300MB.txt\n",
      "Runtime: 17.03 seconds\n",
      "CPU Utilization: 2.40%\n",
      "Memory Usage: 1830.36 MB\n",
      "[17.02847123146057, 2.4, 1830.36328125]\n",
      "[('european', 316722), ('mr', 210160), ('would', 179735), ('also', 175907), ('-', 162852), ('must', 153791), ('commission', 138407), ('president,', 125700), ('member', 124360), ('like', 108992)]\n",
      "Running experiment: Chunking-data/data_2.5GB.txt\n",
      "Runtime: 171.63 seconds\n",
      "CPU Utilization: 2.40%\n",
      "Memory Usage: 4576.35 MB\n",
      "[171.62510323524475, 2.4, 4576.34765625]\n",
      "[('said', 1575360), ('-', 1473479), ('would', 908990), ('one', 878036), ('new', 833235), ('said.', 726396), ('also', 716496), ('last', 688667), ('de', 640307), ('two', 615818)]\n",
      "Running experiment: Chunking-data/data_16GB.txt\n",
      "Runtime: 1393.65 seconds\n",
      "CPU Utilization: 2.20%\n",
      "Memory Usage: 5512.49 MB\n",
      "[1393.6506669521332, 2.2, 5512.48828125]\n",
      "[('said', 10417460), ('would', 5773732), ('new', 5490710), ('one', 5371723), ('-', 5313568), ('said.', 4693527), ('also', 4536374), ('last', 4014470), ('two', 3829142), ('first', 3647647)]\n"
     ]
    }
   ],
   "source": [
    "for file_path in files:\n",
    "    try: \n",
    "        k_most = KMostPopularWords(file_path)\n",
    "        baseline_result = experiment_runner.run_experiment(\"Chunking-\" + file_path, k_most.get_top_k_words_chunk, k, chunk_size)\n",
    "        print(experiment_runner.measure)\n",
    "        print(baseline_result)\n",
    "        result3[file_path] = experiment_runner.measure\n",
    "    except ValueError:\n",
    "        result3[file_path] = []"
   ]
  },
  {
   "cell_type": "code",
   "execution_count": 15,
   "id": "97afbe7a-57c7-47e7-afee-6a6e988ec763",
   "metadata": {},
   "outputs": [
    {
     "data": {
      "text/plain": [
       "{'data/data_300MB.txt': [17.02847123146057, 2.4, 1830.36328125],\n",
       " 'data/data_2.5GB.txt': [171.62510323524475, 2.4, 4576.34765625],\n",
       " 'data/data_16GB.txt': [1393.6506669521332, 2.2, 5512.48828125]}"
      ]
     },
     "execution_count": 15,
     "metadata": {},
     "output_type": "execute_result"
    }
   ],
   "source": [
    "result3"
   ]
  },
  {
   "cell_type": "markdown",
   "id": "faa9d644-f2b1-413c-82a0-7da471bc0220",
   "metadata": {},
   "source": [
    "# Summary"
   ]
  },
  {
   "cell_type": "code",
   "execution_count": 51,
   "id": "efa10620-f02a-460f-881f-750473202ed0",
   "metadata": {},
   "outputs": [],
   "source": [
    "import pandas as pd\n",
    "import numpy as np\n",
    "import matplotlib.pyplot as plt"
   ]
  },
  {
   "cell_type": "code",
   "execution_count": 78,
   "id": "5a855ee3-37b6-44b4-9196-a90f8bc91e0d",
   "metadata": {},
   "outputs": [],
   "source": [
    "# log Y axis\n",
    "def result_plot(df, title, y_title):\n",
    "    x = np.log(df['DataSize'])\n",
    "    plt.plot(x, np.log(df['Case1']), marker='o', label='Case 1')\n",
    "    plt.plot(x, np.log(df['Case2']), marker='o', label='Case 2')\n",
    "    plt.plot(x, np.log(df['Case3']), marker='o', label='Case 3')\n",
    "    \n",
    "    plt.title(title + ' vs Data Size for different algorithms')\n",
    "    plt.xlabel('Log Data Size in MB')\n",
    "    plt.ylabel(y_title)\n",
    "    plt.legend()\n",
    "\n",
    "    # Display the plot\n",
    "    plt.show()"
   ]
  },
  {
   "cell_type": "markdown",
   "id": "f71f0196-7512-41f8-98f4-a8444f450b99",
   "metadata": {},
   "source": [
    "# without log Y axis\n",
    "def result_plot(df, title, y_title):\n",
    "    x = np.log(df['DataSize'])\n",
    "    plt.plot(x, df['Case1'], marker='o', label='Case 1')\n",
    "    plt.plot(x, df['Case2'], marker='o', label='Case 2')\n",
    "    plt.plot(x, df['Case3'], marker='o', label='Case 3')\n",
    "    \n",
    "    plt.title(title + ' vs Data Size for different algorithms')\n",
    "    plt.xlabel('Log Data Size in MB')\n",
    "    plt.ylabel(y_title)\n",
    "    plt.legend()\n",
    "\n",
    "    # Display the plot\n",
    "    plt.show()"
   ]
  },
  {
   "cell_type": "markdown",
   "id": "928c449a-107a-492e-a734-24550e54ddea",
   "metadata": {},
   "source": [
    "## Speed"
   ]
  },
  {
   "cell_type": "code",
   "execution_count": 79,
   "id": "55265156-f300-4a89-80b4-efb5a00a5bb0",
   "metadata": {},
   "outputs": [
    {
     "data": {
      "text/html": [
       "<div>\n",
       "<style scoped>\n",
       "    .dataframe tbody tr th:only-of-type {\n",
       "        vertical-align: middle;\n",
       "    }\n",
       "\n",
       "    .dataframe tbody tr th {\n",
       "        vertical-align: top;\n",
       "    }\n",
       "\n",
       "    .dataframe thead th {\n",
       "        text-align: right;\n",
       "    }\n",
       "</style>\n",
       "<table border=\"1\" class=\"dataframe\">\n",
       "  <thead>\n",
       "    <tr style=\"text-align: right;\">\n",
       "      <th></th>\n",
       "      <th>DataSize</th>\n",
       "      <th>Case1</th>\n",
       "      <th>Case2</th>\n",
       "      <th>Case3</th>\n",
       "    </tr>\n",
       "  </thead>\n",
       "  <tbody>\n",
       "    <tr>\n",
       "      <th>0</th>\n",
       "      <td>300.0</td>\n",
       "      <td>32.292798</td>\n",
       "      <td>32.883123</td>\n",
       "      <td>17.028471</td>\n",
       "    </tr>\n",
       "    <tr>\n",
       "      <th>1</th>\n",
       "      <td>2560.0</td>\n",
       "      <td>NaN</td>\n",
       "      <td>NaN</td>\n",
       "      <td>171.625103</td>\n",
       "    </tr>\n",
       "    <tr>\n",
       "      <th>2</th>\n",
       "      <td>16384.0</td>\n",
       "      <td>NaN</td>\n",
       "      <td>NaN</td>\n",
       "      <td>1393.650667</td>\n",
       "    </tr>\n",
       "  </tbody>\n",
       "</table>\n",
       "</div>"
      ],
      "text/plain": [
       "   DataSize      Case1      Case2        Case3\n",
       "0     300.0  32.292798  32.883123    17.028471\n",
       "1    2560.0        NaN        NaN   171.625103\n",
       "2   16384.0        NaN        NaN  1393.650667"
      ]
     },
     "execution_count": 79,
     "metadata": {},
     "output_type": "execute_result"
    }
   ],
   "source": [
    "speed = {'data/data_300MB.txt': [300],\n",
    " 'data/data_2.5GB.txt': [2.5*1024],\n",
    " 'data/data_16GB.txt': [16*1024]}\n",
    "results = [result1, result2, result3]\n",
    "for result in results:\n",
    "    for key, value in result.items():\n",
    "        speed.setdefault(key, []).append(value[0])\n",
    "df_speed = pd.DataFrame(speed.values(), columns = ['DataSize', 'Case1', 'Case2', 'Case3'])\n",
    "df_speed"
   ]
  },
  {
   "cell_type": "code",
   "execution_count": 80,
   "id": "9bfc5d28-5da4-44a2-95b5-9b5d427f77d5",
   "metadata": {},
   "outputs": [
    {
     "data": {
      "image/png": "[encoded data removed]",
      "text/plain": [
       "<Figure size 432x288 with 1 Axes>"
      ]
     },
     "metadata": {
      "needs_background": "light"
     },
     "output_type": "display_data"
    }
   ],
   "source": [
    "result_plot(df_speed, 'Runtime', 'Log Runtime in Second')"
   ]
  },
  {
   "cell_type": "markdown",
   "id": "31a422ee-f29b-4e6a-93ef-e1df0ff42029",
   "metadata": {},
   "source": [
    "## CPU utilization"
   ]
  },
  {
   "cell_type": "code",
   "execution_count": 81,
   "id": "640314b5-e0bc-4383-9950-04faae2260aa",
   "metadata": {},
   "outputs": [
    {
     "data": {
      "text/html": [
       "<div>\n",
       "<style scoped>\n",
       "    .dataframe tbody tr th:only-of-type {\n",
       "        vertical-align: middle;\n",
       "    }\n",
       "\n",
       "    .dataframe tbody tr th {\n",
       "        vertical-align: top;\n",
       "    }\n",
       "\n",
       "    .dataframe thead th {\n",
       "        text-align: right;\n",
       "    }\n",
       "</style>\n",
       "<table border=\"1\" class=\"dataframe\">\n",
       "  <thead>\n",
       "    <tr style=\"text-align: right;\">\n",
       "      <th></th>\n",
       "      <th>DataSize</th>\n",
       "      <th>Case1</th>\n",
       "      <th>Case2</th>\n",
       "      <th>Case3</th>\n",
       "    </tr>\n",
       "  </thead>\n",
       "  <tbody>\n",
       "    <tr>\n",
       "      <th>0</th>\n",
       "      <td>300.0</td>\n",
       "      <td>2.4</td>\n",
       "      <td>2.4</td>\n",
       "      <td>2.4</td>\n",
       "    </tr>\n",
       "    <tr>\n",
       "      <th>1</th>\n",
       "      <td>2560.0</td>\n",
       "      <td>NaN</td>\n",
       "      <td>NaN</td>\n",
       "      <td>2.4</td>\n",
       "    </tr>\n",
       "    <tr>\n",
       "      <th>2</th>\n",
       "      <td>16384.0</td>\n",
       "      <td>NaN</td>\n",
       "      <td>NaN</td>\n",
       "      <td>2.2</td>\n",
       "    </tr>\n",
       "  </tbody>\n",
       "</table>\n",
       "</div>"
      ],
      "text/plain": [
       "   DataSize  Case1  Case2  Case3\n",
       "0     300.0    2.4    2.4    2.4\n",
       "1    2560.0    NaN    NaN    2.4\n",
       "2   16384.0    NaN    NaN    2.2"
      ]
     },
     "execution_count": 81,
     "metadata": {},
     "output_type": "execute_result"
    }
   ],
   "source": [
    "cpu = {'data/data_300MB.txt': [300],\n",
    " 'data/data_2.5GB.txt': [2.5*1024],\n",
    " 'data/data_16GB.txt': [16*1024]}\n",
    "results = [result1, result2, result3]\n",
    "for result in results:\n",
    "    for key, value in result.items():\n",
    "        cpu.setdefault(key, []).append(value[1])\n",
    "df_cpu = pd.DataFrame(cpu.values(), columns = ['DataSize', 'Case1', 'Case2', 'Case3'])\n",
    "df_cpu"
   ]
  },
  {
   "cell_type": "code",
   "execution_count": null,
   "id": "5d405b19-acaf-4e72-b739-ea802f2aef95",
   "metadata": {},
   "outputs": [],
   "source": []
  },
  {
   "cell_type": "markdown",
   "id": "06b69331-834e-479b-a0cf-a87a26706f3d",
   "metadata": {},
   "source": [
    "## Ram Utilization"
   ]
  },
  {
   "cell_type": "code",
   "execution_count": 82,
   "id": "977469e5-b56b-492c-aa38-4422e498faa1",
   "metadata": {},
   "outputs": [],
   "source": [
    "ram = {'data/data_300MB.txt': [300],\n",
    " 'data/data_2.5GB.txt': [2.5*1024],\n",
    " 'data/data_16GB.txt': [16*1024]}\n",
    "results = [result1, result2, result3]\n",
    "for result in results:\n",
    "    for key, value in result.items():\n",
    "        ram.setdefault(key, []).append(value[2])\n",
    "        \n",
    "        "
   ]
  },
  {
   "cell_type": "code",
   "execution_count": 83,
   "id": "f8adf5bb-a9e9-4b6f-905e-27256d6c6726",
   "metadata": {},
   "outputs": [
    {
     "data": {
      "text/html": [
       "<div>\n",
       "<style scoped>\n",
       "    .dataframe tbody tr th:only-of-type {\n",
       "        vertical-align: middle;\n",
       "    }\n",
       "\n",
       "    .dataframe tbody tr th {\n",
       "        vertical-align: top;\n",
       "    }\n",
       "\n",
       "    .dataframe thead th {\n",
       "        text-align: right;\n",
       "    }\n",
       "</style>\n",
       "<table border=\"1\" class=\"dataframe\">\n",
       "  <thead>\n",
       "    <tr style=\"text-align: right;\">\n",
       "      <th></th>\n",
       "      <th>DataSize</th>\n",
       "      <th>Case1</th>\n",
       "      <th>Case2</th>\n",
       "      <th>Case3</th>\n",
       "    </tr>\n",
       "  </thead>\n",
       "  <tbody>\n",
       "    <tr>\n",
       "      <th>0</th>\n",
       "      <td>300.0</td>\n",
       "      <td>3960.15625</td>\n",
       "      <td>4410.621094</td>\n",
       "      <td>1830.363281</td>\n",
       "    </tr>\n",
       "    <tr>\n",
       "      <th>1</th>\n",
       "      <td>2560.0</td>\n",
       "      <td>NaN</td>\n",
       "      <td>NaN</td>\n",
       "      <td>4576.347656</td>\n",
       "    </tr>\n",
       "    <tr>\n",
       "      <th>2</th>\n",
       "      <td>16384.0</td>\n",
       "      <td>NaN</td>\n",
       "      <td>NaN</td>\n",
       "      <td>5512.488281</td>\n",
       "    </tr>\n",
       "  </tbody>\n",
       "</table>\n",
       "</div>"
      ],
      "text/plain": [
       "   DataSize       Case1        Case2        Case3\n",
       "0     300.0  3960.15625  4410.621094  1830.363281\n",
       "1    2560.0         NaN          NaN  4576.347656\n",
       "2   16384.0         NaN          NaN  5512.488281"
      ]
     },
     "execution_count": 83,
     "metadata": {},
     "output_type": "execute_result"
    }
   ],
   "source": [
    "df_ram = pd.DataFrame(ram.values(), columns = ['DataSize', 'Case1', 'Case2', 'Case3'])\n",
    "df_ram"
   ]
  },
  {
   "cell_type": "code",
   "execution_count": 84,
   "id": "c6d83842-737f-4e59-92b3-6a49f9c3ab20",
   "metadata": {},
   "outputs": [
    {
     "data": {
      "image/png": "[encoded data removed]",
      "text/plain": [
       "<Figure size 432x288 with 1 Axes>"
      ]
     },
     "metadata": {
      "needs_background": "light"
     },
     "output_type": "display_data"
    }
   ],
   "source": [
    "result_plot(df_ram, 'Ram Usage', 'Log Ram Usage in MB')"
   ]
  },
  {
   "cell_type": "code",
   "execution_count": null,
   "id": "b26e6230-bc6c-45cf-b721-4defa757ba34",
   "metadata": {},
   "outputs": [],
   "source": []
  },
  {
   "cell_type": "code",
   "execution_count": null,
   "id": "b5bc9413-d5be-410f-b60a-a88f9af8d8d5",
   "metadata": {},
   "outputs": [],
   "source": []
  }
 ],
 "metadata": {
  "kernelspec": {
   "display_name": "Python 3 (ipykernel)",
   "language": "python",
   "name": "python3"
  },
  "language_info": {
   "codemirror_mode": {
    "name": "ipython",
    "version": 3
   },
   "file_extension": ".py",
   "mimetype": "text/x-python",
   "name": "python",
   "nbconvert_exporter": "python",
   "pygments_lexer": "ipython3",
   "version": "3.9.12"
  }
 },
 "nbformat": 4,
 "nbformat_minor": 5
}
