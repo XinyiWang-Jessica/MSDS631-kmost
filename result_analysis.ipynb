{
 "cells": [
  {
   "cell_type": "code",
   "execution_count": 1,
   "id": "b2731bef-0e5b-484b-b1db-59055bdcd871",
   "metadata": {},
   "outputs": [],
   "source": [
    "%load_ext autoreload\n",
    "%autoreload 2"
   ]
  },
  {
   "cell_type": "code",
   "execution_count": 9,
   "id": "a4460f04-f882-470c-b352-a3b3617dc531",
   "metadata": {},
   "outputs": [],
   "source": [
    "from k_popular_words import KMostPopularWords\n",
    "from single_task import KMostSingle\n",
    "from utils import ExperimentRunner\n",
    "import pandas as pd"
   ]
  },
  {
   "cell_type": "code",
   "execution_count": 3,
   "id": "61e4d3d0-2c85-4532-853c-ed462575f472",
   "metadata": {},
   "outputs": [],
   "source": [
    "files = [\"data/data_300MB.txt\", \"data/data_2.5GB.txt\", \"data/data_16GB.txt\"]\n",
    "experiment_runner = ExperimentRunner()\n",
    "\n",
    "k = 10"
   ]
  },
  {
   "cell_type": "code",
   "execution_count": 4,
   "id": "17c5bb11-480c-41b3-8a1a-69df70e8351f",
   "metadata": {},
   "outputs": [],
   "source": [
    "result = []"
   ]
  },
  {
   "cell_type": "markdown",
   "id": "387ee435-3a90-41e9-a797-81d43065902b",
   "metadata": {},
   "source": [
    "# Case 1: \n",
    "- Run as single task (without multi-thread and chunking)\n",
    "- Sorting Algorithm: python sort (Tim Sort)"
   ]
  },
  {
   "cell_type": "code",
   "execution_count": 5,
   "id": "09852eef-266a-4414-a151-14732988bf67",
   "metadata": {},
   "outputs": [
    {
     "name": "stdout",
     "output_type": "stream",
     "text": [
      "Running experiment: Baselinedata/data_300MB.txt\n",
      "Wall Time: 32.92 seconds\n",
      "CPU Time: 32.83 seconds\n",
      "Peak Memory Usage: 4375.38 MB\n",
      "[('european', 318532), ('mr', 210638), ('would', 181905), ('also', 180117), ('commission', 172768), ('must', 156850), ('president', 152132), ('union', 130292), ('states', 129472), ('member', 126221)]\n",
      "Running experiment: Baselinedata/data_2.5GB.txt\n",
      "Running experiment: Baselinedata/data_16GB.txt\n"
     ]
    }
   ],
   "source": [
    "for file_path in files:\n",
    "    try: \n",
    "        k_most = KMostPopularWords(file_path)\n",
    "        baseline_result = experiment_runner.run_experiment(\"Baseline\"+file_path, k_most.get_top_k_words_baseline, k)\n",
    "        print(baseline_result)\n",
    "        result.append([\"1\", file_path, experiment_runner.wall_time, experiment_runner.cpu_time, experiment_runner.peak_memory_usage/ 1024 / 1024])\n",
    "    except ValueError:\n",
    "        result.append([\"1\", file_path, None, None, None])\n"
   ]
  },
  {
   "cell_type": "code",
   "execution_count": 6,
   "id": "bc7393e9-9eea-4adf-8f0d-cf87c7cb7be9",
   "metadata": {},
   "outputs": [
    {
     "data": {
      "text/plain": [
       "[['1',\n",
       "  'data/data_300MB.txt',\n",
       "  32.917779207229614,\n",
       "  32.82740000000001,\n",
       "  4375.37620639801],\n",
       " ['1', 'data/data_2.5GB.txt', None, None, None],\n",
       " ['1', 'data/data_16GB.txt', None, None, None]]"
      ]
     },
     "execution_count": 6,
     "metadata": {},
     "output_type": "execute_result"
    }
   ],
   "source": [
    "result"
   ]
  },
  {
   "cell_type": "markdown",
   "id": "aafe121d-632d-4f66-b046-70e3de63bb0f",
   "metadata": {},
   "source": [
    "# Case 2: \n",
    "- Run as single task (without multi-thread and chunking\n",
    "- Sorting Algorithm: python heapq nlargest (Heap Sort)"
   ]
  },
  {
   "cell_type": "code",
   "execution_count": 7,
   "id": "8a506ae4-1cfd-4014-983c-d67d50e4a6ad",
   "metadata": {},
   "outputs": [
    {
     "name": "stdout",
     "output_type": "stream",
     "text": [
      "Running experiment: Baselinedata/data_300MB.txt\n",
      "Wall Time: 32.70 seconds\n",
      "CPU Time: 32.63 seconds\n",
      "Peak Memory Usage: 4375.47 MB\n",
      "[('european', 318532), ('mr', 210638), ('would', 181905), ('also', 180117), ('commission', 172768), ('must', 156850), ('president', 152132), ('union', 130292), ('states', 129472), ('member', 126221)]\n",
      "Running experiment: Baselinedata/data_2.5GB.txt\n",
      "Running experiment: Baselinedata/data_16GB.txt\n"
     ]
    }
   ],
   "source": [
    "for file_path in files:\n",
    "    try: \n",
    "        k_most = KMostPopularWords(file_path, \"heap_sort\")\n",
    "        baseline_result = experiment_runner.run_experiment(\"Baseline\"+file_path, k_most.get_top_k_words_baseline, k)\n",
    "        print(baseline_result)\n",
    "        result.append([\"2\", file_path, experiment_runner.wall_time, experiment_runner.cpu_time, experiment_runner.peak_memory_usage/ 1024 / 1024])\n",
    "    except ValueError:\n",
    "        result.append([\"2\", file_path, None, None, None])"
   ]
  },
  {
   "cell_type": "code",
   "execution_count": 11,
   "id": "c2faab35-56fd-41ed-a058-c262a851afb9",
   "metadata": {},
   "outputs": [
    {
     "data": {
      "text/plain": [
       "[['1',\n",
       "  'data/data_300MB.txt',\n",
       "  32.917779207229614,\n",
       "  32.82740000000001,\n",
       "  4375.37620639801],\n",
       " ['1', 'data/data_2.5GB.txt', None, None, None],\n",
       " ['1', 'data/data_16GB.txt', None, None, None],\n",
       " ['2',\n",
       "  'data/data_300MB.txt',\n",
       "  32.70103096961975,\n",
       "  32.62513099999995,\n",
       "  4375.474266052246],\n",
       " ['2', 'data/data_2.5GB.txt', None, None, None],\n",
       " ['2', 'data/data_16GB.txt', None, None, None]]"
      ]
     },
     "execution_count": 11,
     "metadata": {},
     "output_type": "execute_result"
    }
   ],
   "source": [
    "pd.DataFrame(result).to_csv('result.csv')\n",
    "result"
   ]
  },
  {
   "cell_type": "markdown",
   "id": "2b789737-cd31-4994-a697-5b6e5535ef92",
   "metadata": {},
   "source": [
    "# Case 3:\n",
    "- Run as multi-tasks (with chunking)\n",
    "- Sorting Algorithm python sort (Tim Sort)\n",
    "- Different chunk sizes"
   ]
  },
  {
   "cell_type": "code",
   "execution_count": 12,
   "id": "7cc3a366-7fae-48d4-8490-c4b39abb1d4e",
   "metadata": {},
   "outputs": [],
   "source": [
    "# test 1\n",
    "chunk_sizes = [400*1024*1024, 200*1024*1024, 100*1024*1024]"
   ]
  },
  {
   "cell_type": "code",
   "execution_count": 13,
   "id": "ac6ec5f0-7df4-4fa2-8ab9-8bc17ec175c4",
   "metadata": {},
   "outputs": [
    {
     "name": "stdout",
     "output_type": "stream",
     "text": [
      "Running experiment: Chunking-Timdata/data_300MB.txt\n",
      "Wall Time: 33.72 seconds\n",
      "CPU Time: 33.61 seconds\n",
      "Peak Memory Usage: 5021.16 MB\n",
      "[('european', 318532), ('mr', 210638), ('would', 181905), ('also', 180117), ('commission', 172768), ('must', 156850), ('president', 152132), ('union', 130292), ('states', 129472), ('member', 126221)]\n",
      "Running experiment: Chunking-Timdata/data_2.5GB.txt\n",
      "Wall Time: 307.15 seconds\n",
      "CPU Time: 296.66 seconds\n",
      "Peak Memory Usage: 6635.57 MB\n",
      "[('said', 2616235), ('one', 949399), ('would', 917205), ('new', 852788), ('also', 727930), ('last', 700206), ('people', 688742), ('mr', 659104), ('us', 643771), ('de', 643048)]\n",
      "Running experiment: Chunking-Timdata/data_16GB.txt\n",
      "Wall Time: 2368.40 seconds\n",
      "CPU Time: 2004.32 seconds\n",
      "Peak Memory Usage: 11324.80 MB\n",
      "[('said', 16980655), ('would', 5822354), ('one', 5794014), ('new', 5609010), ('also', 4616671), ('us', 4496155), ('people', 4255373), ('last', 4089050), ('two', 3956855), ('first', 3832029)]\n",
      "Running experiment: Chunking-Timdata/data_300MB.txt\n",
      "Wall Time: 32.40 seconds\n",
      "CPU Time: 32.41 seconds\n",
      "Peak Memory Usage: 3228.59 MB\n",
      "[('european', 318532), ('mr', 210638), ('would', 181905), ('also', 180117), ('commission', 172768), ('must', 156850), ('president', 152132), ('union', 130292), ('states', 129472), ('member', 126221)]\n",
      "Running experiment: Chunking-Timdata/data_2.5GB.txt\n",
      "Wall Time: 280.11 seconds\n",
      "CPU Time: 279.69 seconds\n",
      "Peak Memory Usage: 3917.12 MB\n",
      "[('said', 2616235), ('one', 949399), ('would', 917205), ('new', 852788), ('also', 727930), ('last', 700206), ('people', 688742), ('mr', 659104), ('us', 643771), ('de', 643048)]\n",
      "Running experiment: Chunking-Timdata/data_16GB.txt\n",
      "Wall Time: 1817.20 seconds\n",
      "CPU Time: 1799.30 seconds\n",
      "Peak Memory Usage: 5885.65 MB\n",
      "[('said', 16980655), ('would', 5822354), ('one', 5794014), ('new', 5609010), ('also', 4616671), ('us', 4496155), ('people', 4255373), ('last', 4089050), ('two', 3956855), ('first', 3832029)]\n",
      "Running experiment: Chunking-Timdata/data_300MB.txt\n",
      "Wall Time: 32.72 seconds\n",
      "CPU Time: 32.72 seconds\n",
      "Peak Memory Usage: 1918.03 MB\n",
      "[('european', 318532), ('mr', 210638), ('would', 181905), ('also', 180117), ('commission', 172768), ('must', 156850), ('president', 152132), ('union', 130292), ('states', 129472), ('member', 126221)]\n",
      "Running experiment: Chunking-Timdata/data_2.5GB.txt\n",
      "Wall Time: 277.97 seconds\n",
      "CPU Time: 277.89 seconds\n",
      "Peak Memory Usage: 2001.96 MB\n",
      "[('said', 2616235), ('one', 949399), ('would', 917205), ('new', 852788), ('also', 727930), ('last', 700206), ('people', 688742), ('mr', 659104), ('us', 643771), ('de', 643048)]\n",
      "Running experiment: Chunking-Timdata/data_16GB.txt\n",
      "Wall Time: 1778.10 seconds\n",
      "CPU Time: 1773.00 seconds\n",
      "Peak Memory Usage: 3163.17 MB\n",
      "[('said', 16980655), ('would', 5822354), ('one', 5794014), ('new', 5609010), ('also', 4616671), ('us', 4496155), ('people', 4255373), ('last', 4089050), ('two', 3956855), ('first', 3832029)]\n"
     ]
    }
   ],
   "source": [
    "for i in range(3):\n",
    "    chunk_size = chunk_sizes[i]\n",
    "    for file_path in files:\n",
    "        try: \n",
    "            k_most = KMostPopularWords(file_path)\n",
    "            baseline_result = experiment_runner.run_experiment(\"Chunking-Tim\" + file_path, k_most.get_top_k_words_chunk, k, chunk_size)\n",
    "            print(baseline_result)\n",
    "            result.append([\"3-\" + str(i), file_path, experiment_runner.wall_time, experiment_runner.cpu_time, experiment_runner.peak_memory_usage/ 1024 / 1024])\n",
    "        except ValueError:\n",
    "            result.append([\"3-\" + str(i), file_path, None, None, None])"
   ]
  },
  {
   "cell_type": "code",
   "execution_count": 14,
   "id": "97afbe7a-57c7-47e7-afee-6a6e988ec763",
   "metadata": {},
   "outputs": [
    {
     "data": {
      "text/plain": [
       "[['1',\n",
       "  'data/data_300MB.txt',\n",
       "  32.917779207229614,\n",
       "  32.82740000000001,\n",
       "  4375.37620639801],\n",
       " ['1', 'data/data_2.5GB.txt', None, None, None],\n",
       " ['1', 'data/data_16GB.txt', None, None, None],\n",
       " ['2',\n",
       "  'data/data_300MB.txt',\n",
       "  32.70103096961975,\n",
       "  32.62513099999995,\n",
       "  4375.474266052246],\n",
       " ['2', 'data/data_2.5GB.txt', None, None, None],\n",
       " ['2', 'data/data_16GB.txt', None, None, None],\n",
       " ['3-0',\n",
       "  'data/data_300MB.txt',\n",
       "  33.71893286705017,\n",
       "  33.612904999999955,\n",
       "  5021.161524772644],\n",
       " ['3-0',\n",
       "  'data/data_2.5GB.txt',\n",
       "  307.1549189090729,\n",
       "  296.6599919999999,\n",
       "  6635.572432518005],\n",
       " ['3-0',\n",
       "  'data/data_16GB.txt',\n",
       "  2368.4038801193237,\n",
       "  2004.3216850000008,\n",
       "  11324.796133995056],\n",
       " ['3-1',\n",
       "  'data/data_300MB.txt',\n",
       "  32.40458798408508,\n",
       "  32.412092999999004,\n",
       "  3228.587408065796],\n",
       " ['3-1',\n",
       "  'data/data_2.5GB.txt',\n",
       "  280.1141848564148,\n",
       "  279.689739999998,\n",
       "  3917.1164407730103],\n",
       " ['3-1',\n",
       "  'data/data_16GB.txt',\n",
       "  1817.1978750228882,\n",
       "  1799.2975189999997,\n",
       "  5885.65309047699],\n",
       " ['3-2',\n",
       "  'data/data_300MB.txt',\n",
       "  32.71650409698486,\n",
       "  32.71700799999962,\n",
       "  1918.029423713684],\n",
       " ['3-2',\n",
       "  'data/data_2.5GB.txt',\n",
       "  277.97047185897827,\n",
       "  277.885199999997,\n",
       "  2001.9624814987183],\n",
       " ['3-2',\n",
       "  'data/data_16GB.txt',\n",
       "  1778.101676940918,\n",
       "  1773.002720000004,\n",
       "  3163.174624443054]]"
      ]
     },
     "execution_count": 14,
     "metadata": {},
     "output_type": "execute_result"
    }
   ],
   "source": [
    "pd.DataFrame(result).to_csv('result.csv')\n",
    "result"
   ]
  },
  {
   "cell_type": "markdown",
   "id": "2720499d-4fc3-447e-99ae-f00cf69d1f8d",
   "metadata": {},
   "source": [
    "# Case 4\n",
    "- Run as multi-tasks (witt chunking)\n",
    "- Sorting Algorithm: python heapq nlargest (Heap Sort)"
   ]
  },
  {
   "cell_type": "code",
   "execution_count": 15,
   "id": "3d0a8787-708a-4774-9469-f8e431812b06",
   "metadata": {},
   "outputs": [],
   "source": [
    "chunk_size = 200*1024*1024"
   ]
  },
  {
   "cell_type": "code",
   "execution_count": 16,
   "id": "9a1ed3ec-7dd9-45e3-a2bd-dd4ee5260a65",
   "metadata": {},
   "outputs": [
    {
     "name": "stdout",
     "output_type": "stream",
     "text": [
      "Running experiment: Chunking-heapdata/data_300MB.txt\n",
      "Wall Time: 32.33 seconds\n",
      "CPU Time: 32.33 seconds\n",
      "Peak Memory Usage: 3228.59 MB\n",
      "[('european', 318532), ('mr', 210638), ('would', 181905), ('also', 180117), ('commission', 172768), ('must', 156850), ('president', 152132), ('union', 130292), ('states', 129472), ('member', 126221)]\n",
      "Running experiment: Chunking-heapdata/data_2.5GB.txt\n",
      "Wall Time: 276.86 seconds\n",
      "CPU Time: 276.78 seconds\n",
      "Peak Memory Usage: 3917.12 MB\n",
      "[('said', 2616235), ('one', 949399), ('would', 917205), ('new', 852788), ('also', 727930), ('last', 700206), ('people', 688742), ('mr', 659104), ('us', 643771), ('de', 643048)]\n",
      "Running experiment: Chunking-heapdata/data_16GB.txt\n"
     ]
    },
    {
     "name": "stderr",
     "output_type": "stream",
     "text": [
      "Exception ignored in: <generator object read_file_chunks at 0x7fd3d6858270>\n",
      "Traceback (most recent call last):\n",
      "  File \"/Users/jwang/Documents/USF/631/HW1/MSDS631-kmost/utils.py\", line 54, in read_file_chunks\n",
      "    yield complete_words\n",
      "KeyboardInterrupt: \n"
     ]
    },
    {
     "ename": "KeyboardInterrupt",
     "evalue": "",
     "output_type": "error",
     "traceback": [
      "\u001b[0;31m---------------------------------------------------------------------------\u001b[0m",
      "\u001b[0;31mKeyboardInterrupt\u001b[0m                         Traceback (most recent call last)",
      "Input \u001b[0;32mIn [16]\u001b[0m, in \u001b[0;36m<cell line: 1>\u001b[0;34m()\u001b[0m\n\u001b[1;32m      2\u001b[0m \u001b[38;5;28;01mtry\u001b[39;00m: \n\u001b[1;32m      3\u001b[0m     k_most \u001b[38;5;241m=\u001b[39m KMostPopularWords(file_path, \u001b[38;5;124m\"\u001b[39m\u001b[38;5;124mheap_sort\u001b[39m\u001b[38;5;124m\"\u001b[39m)\n\u001b[0;32m----> 4\u001b[0m     baseline_result \u001b[38;5;241m=\u001b[39m \u001b[43mexperiment_runner\u001b[49m\u001b[38;5;241;43m.\u001b[39;49m\u001b[43mrun_experiment\u001b[49m\u001b[43m(\u001b[49m\u001b[38;5;124;43m\"\u001b[39;49m\u001b[38;5;124;43mChunking-heap\u001b[39;49m\u001b[38;5;124;43m\"\u001b[39;49m\u001b[43m \u001b[49m\u001b[38;5;241;43m+\u001b[39;49m\u001b[43m \u001b[49m\u001b[43mfile_path\u001b[49m\u001b[43m,\u001b[49m\u001b[43m \u001b[49m\u001b[43mk_most\u001b[49m\u001b[38;5;241;43m.\u001b[39;49m\u001b[43mget_top_k_words_chunk\u001b[49m\u001b[43m,\u001b[49m\u001b[43m \u001b[49m\u001b[43mk\u001b[49m\u001b[43m,\u001b[49m\u001b[43m \u001b[49m\u001b[43mchunk_size\u001b[49m\u001b[43m)\u001b[49m\n\u001b[1;32m      5\u001b[0m     \u001b[38;5;28mprint\u001b[39m(baseline_result)\n\u001b[1;32m      6\u001b[0m     result\u001b[38;5;241m.\u001b[39mappend([\u001b[38;5;124m\"\u001b[39m\u001b[38;5;124m4\u001b[39m\u001b[38;5;124m\"\u001b[39m, file_path, experiment_runner\u001b[38;5;241m.\u001b[39mwall_time, experiment_runner\u001b[38;5;241m.\u001b[39mcpu_time, experiment_runner\u001b[38;5;241m.\u001b[39mpeak_memory_usage\u001b[38;5;241m/\u001b[39m \u001b[38;5;241m1024\u001b[39m \u001b[38;5;241m/\u001b[39m \u001b[38;5;241m1024\u001b[39m])\n",
      "File \u001b[0;32m~/Documents/USF/631/HW1/MSDS631-kmost/utils.py:117\u001b[0m, in \u001b[0;36mExperimentRunner.run_experiment\u001b[0;34m(self, version_name, func, *args, **kwargs)\u001b[0m\n\u001b[1;32m    114\u001b[0m \u001b[38;5;124;03m\"\"\"Run an experiment and log the results.\"\"\"\u001b[39;00m\n\u001b[1;32m    115\u001b[0m \u001b[38;5;28mprint\u001b[39m(\u001b[38;5;124mf\u001b[39m\u001b[38;5;124m\"\u001b[39m\u001b[38;5;124mRunning experiment: \u001b[39m\u001b[38;5;132;01m{\u001b[39;00mversion_name\u001b[38;5;132;01m}\u001b[39;00m\u001b[38;5;124m\"\u001b[39m)\n\u001b[0;32m--> 117\u001b[0m peak_mem_usage \u001b[38;5;241m=\u001b[39m \u001b[38;5;28;43mself\u001b[39;49m\u001b[38;5;241;43m.\u001b[39;49m\u001b[43mmeasure_peak_memory_usage\u001b[49m\u001b[43m(\u001b[49m\u001b[43mfunc\u001b[49m\u001b[43m,\u001b[49m\u001b[43m \u001b[49m\u001b[38;5;241;43m*\u001b[39;49m\u001b[43margs\u001b[49m\u001b[43m,\u001b[49m\u001b[43m \u001b[49m\u001b[38;5;241;43m*\u001b[39;49m\u001b[38;5;241;43m*\u001b[39;49m\u001b[43mkwargs\u001b[49m\u001b[43m)\u001b[49m\n\u001b[1;32m    119\u001b[0m \u001b[38;5;66;03m# Measure speed without tracking memory usage since it introduces a lot of overhead\u001b[39;00m\n\u001b[1;32m    120\u001b[0m wall_time, cpu_time, result \u001b[38;5;241m=\u001b[39m \u001b[38;5;28mself\u001b[39m\u001b[38;5;241m.\u001b[39mmeasure_time(func, \u001b[38;5;241m*\u001b[39margs, \u001b[38;5;241m*\u001b[39m\u001b[38;5;241m*\u001b[39mkwargs)\n",
      "File \u001b[0;32m~/Documents/USF/631/HW1/MSDS631-kmost/utils.py:94\u001b[0m, in \u001b[0;36mExperimentRunner.measure_peak_memory_usage\u001b[0;34m(self, func, *args, **kwargs)\u001b[0m\n\u001b[1;32m     92\u001b[0m tracemalloc\u001b[38;5;241m.\u001b[39mstart()\n\u001b[1;32m     93\u001b[0m \u001b[38;5;66;03m# Call the function\u001b[39;00m\n\u001b[0;32m---> 94\u001b[0m \u001b[43mfunc\u001b[49m\u001b[43m(\u001b[49m\u001b[38;5;241;43m*\u001b[39;49m\u001b[43margs\u001b[49m\u001b[43m,\u001b[49m\u001b[43m \u001b[49m\u001b[38;5;241;43m*\u001b[39;49m\u001b[38;5;241;43m*\u001b[39;49m\u001b[43mkwargs\u001b[49m\u001b[43m)\u001b[49m\n\u001b[1;32m     95\u001b[0m \u001b[38;5;66;03m# Stop memory monitoring\u001b[39;00m\n\u001b[1;32m     96\u001b[0m cur_mem_usage, peak_mem_usage \u001b[38;5;241m=\u001b[39m tracemalloc\u001b[38;5;241m.\u001b[39mget_traced_memory()\n",
      "File \u001b[0;32m~/Documents/USF/631/HW1/MSDS631-kmost/utils.py:18\u001b[0m, in \u001b[0;36mreset_word_counter.<locals>.wrapper\u001b[0;34m(*args, **kwargs)\u001b[0m\n\u001b[1;32m     15\u001b[0m \u001b[38;5;28mself\u001b[39m\u001b[38;5;241m.\u001b[39mword_counter \u001b[38;5;241m=\u001b[39m {}\n\u001b[1;32m     17\u001b[0m \u001b[38;5;66;03m# Call the original function\u001b[39;00m\n\u001b[0;32m---> 18\u001b[0m result \u001b[38;5;241m=\u001b[39m \u001b[43mfunc\u001b[49m\u001b[43m(\u001b[49m\u001b[38;5;241;43m*\u001b[39;49m\u001b[43margs\u001b[49m\u001b[43m,\u001b[49m\u001b[43m \u001b[49m\u001b[38;5;241;43m*\u001b[39;49m\u001b[38;5;241;43m*\u001b[39;49m\u001b[43mkwargs\u001b[49m\u001b[43m)\u001b[49m\n\u001b[1;32m     20\u001b[0m \u001b[38;5;28;01mreturn\u001b[39;00m result\n",
      "File \u001b[0;32m~/Documents/USF/631/HW1/MSDS631-kmost/k_popular_words.py:90\u001b[0m, in \u001b[0;36mKMostPopularWords.get_top_k_words_chunk\u001b[0;34m(self, k, chunk_size)\u001b[0m\n\u001b[1;32m     87\u001b[0m \u001b[38;5;66;03m# Iterate over chunks of the text\u001b[39;00m\n\u001b[1;32m     88\u001b[0m \u001b[38;5;28;01mfor\u001b[39;00m chunk \u001b[38;5;129;01min\u001b[39;00m read_file_chunks(\u001b[38;5;28mself\u001b[39m\u001b[38;5;241m.\u001b[39mfile_path, chunk_size):\n\u001b[1;32m     89\u001b[0m     \u001b[38;5;66;03m# Iterate over words of a chunk\u001b[39;00m\n\u001b[0;32m---> 90\u001b[0m     \u001b[38;5;28;43mself\u001b[39;49m\u001b[38;5;241;43m.\u001b[39;49m\u001b[43mcount_words\u001b[49m\u001b[43m(\u001b[49m\u001b[43mchunk\u001b[49m\u001b[43m)\u001b[49m\n\u001b[1;32m     92\u001b[0m \u001b[38;5;28;01mif\u001b[39;00m \u001b[38;5;28mself\u001b[39m\u001b[38;5;241m.\u001b[39msorting_method \u001b[38;5;241m==\u001b[39m \u001b[38;5;124m\"\u001b[39m\u001b[38;5;124mheap_sort\u001b[39m\u001b[38;5;124m\"\u001b[39m:\n\u001b[1;32m     93\u001b[0m     \u001b[38;5;28;01mreturn\u001b[39;00m heapq\u001b[38;5;241m.\u001b[39mnlargest(k, \u001b[38;5;28mself\u001b[39m\u001b[38;5;241m.\u001b[39mword_counter\u001b[38;5;241m.\u001b[39mitems(), key\u001b[38;5;241m=\u001b[39m\u001b[38;5;28;01mlambda\u001b[39;00m x: x[\u001b[38;5;241m1\u001b[39m])\n",
      "File \u001b[0;32m~/Documents/USF/631/HW1/MSDS631-kmost/k_popular_words.py:43\u001b[0m, in \u001b[0;36mKMostPopularWords.count_words\u001b[0;34m(self, text)\u001b[0m\n\u001b[1;32m     40\u001b[0m         \u001b[38;5;28mself\u001b[39m\u001b[38;5;241m.\u001b[39mword_counter[word_lower] \u001b[38;5;241m=\u001b[39m \u001b[38;5;28mself\u001b[39m\u001b[38;5;241m.\u001b[39mword_counter\u001b[38;5;241m.\u001b[39mget(\n\u001b[1;32m     41\u001b[0m             word_lower, \u001b[38;5;241m0\u001b[39m) \u001b[38;5;241m+\u001b[39m \u001b[38;5;241m1\u001b[39m\n\u001b[1;32m     42\u001b[0m \u001b[38;5;28;01melse\u001b[39;00m:\n\u001b[0;32m---> 43\u001b[0m     \u001b[38;5;28mself\u001b[39m\u001b[38;5;241m.\u001b[39mword_counter[word_lower] \u001b[38;5;241m=\u001b[39m \u001b[38;5;28;43mself\u001b[39;49m\u001b[38;5;241;43m.\u001b[39;49m\u001b[43mword_counter\u001b[49m\u001b[38;5;241;43m.\u001b[39;49m\u001b[43mget\u001b[49m\u001b[43m(\u001b[49m\n\u001b[1;32m     44\u001b[0m \u001b[43m        \u001b[49m\u001b[43mword_lower\u001b[49m\u001b[43m,\u001b[49m\u001b[43m \u001b[49m\u001b[38;5;241;43m0\u001b[39;49m\u001b[43m)\u001b[49m\u001b[43m \u001b[49m\u001b[38;5;241;43m+\u001b[39;49m\u001b[43m \u001b[49m\u001b[38;5;241;43m1\u001b[39;49m\n",
      "\u001b[0;31mKeyboardInterrupt\u001b[0m: "
     ]
    }
   ],
   "source": [
    "for file_path in files:\n",
    "    try: \n",
    "        k_most = KMostPopularWords(file_path, \"heap_sort\")\n",
    "        baseline_result = experiment_runner.run_experiment(\"Chunking-heap\" + file_path, k_most.get_top_k_words_chunk, k, chunk_size)\n",
    "        print(baseline_result)\n",
    "        result.append([\"4\", file_path, experiment_runner.wall_time, experiment_runner.cpu_time, experiment_runner.peak_memory_usage/ 1024 / 1024])\n",
    "    except ValueError:\n",
    "        result.append([\"4\", file_path, None, None, None])"
   ]
  },
  {
   "cell_type": "code",
   "execution_count": 18,
   "id": "5d02bf37-6d41-448b-b7d5-021d89b30dc7",
   "metadata": {},
   "outputs": [
    {
     "data": {
      "text/plain": [
       "[['1',\n",
       "  'data/data_300MB.txt',\n",
       "  32.917779207229614,\n",
       "  32.82740000000001,\n",
       "  4375.37620639801],\n",
       " ['1', 'data/data_2.5GB.txt', None, None, None],\n",
       " ['1', 'data/data_16GB.txt', None, None, None],\n",
       " ['2',\n",
       "  'data/data_300MB.txt',\n",
       "  32.70103096961975,\n",
       "  32.62513099999995,\n",
       "  4375.474266052246],\n",
       " ['2', 'data/data_2.5GB.txt', None, None, None],\n",
       " ['2', 'data/data_16GB.txt', None, None, None],\n",
       " ['3-0',\n",
       "  'data/data_300MB.txt',\n",
       "  33.71893286705017,\n",
       "  33.612904999999955,\n",
       "  5021.161524772644],\n",
       " ['3-0',\n",
       "  'data/data_2.5GB.txt',\n",
       "  307.1549189090729,\n",
       "  296.6599919999999,\n",
       "  6635.572432518005],\n",
       " ['3-0',\n",
       "  'data/data_16GB.txt',\n",
       "  2368.4038801193237,\n",
       "  2004.3216850000008,\n",
       "  11324.796133995056],\n",
       " ['3-1',\n",
       "  'data/data_300MB.txt',\n",
       "  32.40458798408508,\n",
       "  32.412092999999004,\n",
       "  3228.587408065796],\n",
       " ['3-1',\n",
       "  'data/data_2.5GB.txt',\n",
       "  280.1141848564148,\n",
       "  279.689739999998,\n",
       "  3917.1164407730103],\n",
       " ['3-1',\n",
       "  'data/data_16GB.txt',\n",
       "  1817.1978750228882,\n",
       "  1799.2975189999997,\n",
       "  5885.65309047699],\n",
       " ['3-2',\n",
       "  'data/data_300MB.txt',\n",
       "  32.71650409698486,\n",
       "  32.71700799999962,\n",
       "  1918.029423713684],\n",
       " ['3-2',\n",
       "  'data/data_2.5GB.txt',\n",
       "  277.97047185897827,\n",
       "  277.885199999997,\n",
       "  2001.9624814987183],\n",
       " ['3-2',\n",
       "  'data/data_16GB.txt',\n",
       "  1778.101676940918,\n",
       "  1773.002720000004,\n",
       "  3163.174624443054],\n",
       " ['4',\n",
       "  'data/data_300MB.txt',\n",
       "  32.329447984695435,\n",
       "  32.327440999993996,\n",
       "  3228.588406562805],\n",
       " ['4',\n",
       "  'data/data_2.5GB.txt',\n",
       "  276.86378383636475,\n",
       "  276.7816440000024,\n",
       "  3917.116467475891]]"
      ]
     },
     "execution_count": 18,
     "metadata": {},
     "output_type": "execute_result"
    }
   ],
   "source": [
    "pd.DataFrame(result).to_csv('result.csv')\n",
    "result"
   ]
  },
  {
   "cell_type": "markdown",
   "id": "c12d4efb-9f83-4d65-b3d1-64dc06a4a7df",
   "metadata": {},
   "source": [
    "# Case 5\n",
    "- Run as multi-tasks (with multi-threads and chunking)\n",
    "- Sorting Algorithm: python sort (Tim Sort)"
   ]
  },
  {
   "cell_type": "code",
   "execution_count": 19,
   "id": "14ff60fa-b34d-472a-8a0f-4e2b1fece59a",
   "metadata": {},
   "outputs": [],
   "source": [
    "chunk_size = 200*1024*1024\n",
    "num_thread = 8"
   ]
  },
  {
   "cell_type": "code",
   "execution_count": null,
   "id": "691ceb9a-1c84-47a3-a544-11d4f3c4ef38",
   "metadata": {},
   "outputs": [
    {
     "name": "stdout",
     "output_type": "stream",
     "text": [
      "Running experiment: multi-threaddata/data_300MB.txt\n",
      "Wall Time: 38.35 seconds\n",
      "CPU Time: 38.94 seconds\n",
      "Peak Memory Usage: 5287.03 MB\n",
      "[('european', 318532), ('mr', 210638), ('would', 181905), ('also', 180117), ('commission', 172768), ('must', 156850), ('president', 152132), ('union', 130292), ('states', 129472), ('member', 126221)]\n",
      "Running experiment: multi-threaddata/data_2.5GB.txt\n",
      "Wall Time: 357.50 seconds\n",
      "CPU Time: 356.90 seconds\n",
      "Peak Memory Usage: 4389.17 MB\n",
      "[('said', 2616235), ('one', 949399), ('would', 917205), ('new', 852788), ('also', 727930), ('last', 700206), ('people', 688742), ('mr', 659104), ('us', 643771), ('de', 643048)]\n",
      "Running experiment: multi-threaddata/data_16GB.txt\n"
     ]
    }
   ],
   "source": [
    "for file_path in files:\n",
    "    try: \n",
    "        k_most = KMostPopularWords(file_path)\n",
    "        baseline_result = experiment_runner.run_experiment(\"multi-thread\" + file_path, k_most.get_top_k_words_chunk_mt, k, num_thread, chunk_size)\n",
    "        print(baseline_result)\n",
    "        result.append([\"5\", file_path, experiment_runner.wall_time, experiment_runner.cpu_time, experiment_runner.peak_memory_usage/ 1024 / 1024])\n",
    "    except ValueError:\n",
    "        result.append([\"5\", file_path, None, None, None])"
   ]
  },
  {
   "cell_type": "code",
   "execution_count": null,
   "id": "1d00f962-bd2f-49c4-b851-c98a4ad14192",
   "metadata": {},
   "outputs": [],
   "source": [
    "pd.DataFrame(result).to_csv('result.csv')\n",
    "result"
   ]
  },
  {
   "cell_type": "markdown",
   "id": "8dacfdb4-7ecd-4f1b-b4d1-2eccff0458d9",
   "metadata": {},
   "source": [
    "# Case 6\n",
    "- Run as multi-tasks (with multi-process and chunking)\n",
    "- Sorting Algorithm: python sort (Tim Sort)"
   ]
  },
  {
   "cell_type": "code",
   "execution_count": null,
   "id": "fc113585-d274-4562-b138-32a96dc5fc2e",
   "metadata": {},
   "outputs": [],
   "source": [
    "chunk_size = 200*1024*1024\n",
    "num_process = 8"
   ]
  },
  {
   "cell_type": "code",
   "execution_count": null,
   "id": "72b9f6bb-6b39-47fb-b34b-b625bd16b2ca",
   "metadata": {},
   "outputs": [],
   "source": [
    "for file_path in files:\n",
    "    try: \n",
    "        k_most = KMostPopularWords(file_path)\n",
    "        baseline_result = experiment_runner.run_experiment(\"multi-thread\" + file_path, k_most.get_top_k_words_chunk_mp, k, num_process, chunk_size)\n",
    "        print(baseline_result)\n",
    "        result.append([\"6\", file_path, experiment_runner.wall_time, experiment_runner.cpu_time, experiment_runner.peak_memory_usage/ 1024 / 1024])\n",
    "    except ValueError:\n",
    "        result.append([\"6\", file_path, None, None, None])"
   ]
  },
  {
   "cell_type": "code",
   "execution_count": null,
   "id": "e0745b8e-aa57-4d78-b294-e1f88b8fa11a",
   "metadata": {},
   "outputs": [],
   "source": [
    "pd.DataFrame(result).to_csv('result.csv')\n",
    "result"
   ]
  },
  {
   "cell_type": "markdown",
   "id": "faa9d644-f2b1-413c-82a0-7da471bc0220",
   "metadata": {},
   "source": [
    "# Summary"
   ]
  },
  {
   "cell_type": "code",
   "execution_count": null,
   "id": "efa10620-f02a-460f-881f-750473202ed0",
   "metadata": {},
   "outputs": [],
   "source": [
    "import pandas as pd\n",
    "import numpy as np\n",
    "import matplotlib.pyplot as plt"
   ]
  },
  {
   "cell_type": "code",
   "execution_count": null,
   "id": "5a855ee3-37b6-44b4-9196-a90f8bc91e0d",
   "metadata": {},
   "outputs": [],
   "source": [
    "# log Y axis\n",
    "def result_plot(df, title, y_title):\n",
    "    x = np.log(df['DataSize'])\n",
    "    plt.plot(x, np.log(df['Case1']), marker='o', label='Case 1')\n",
    "    plt.plot(x, np.log(df['Case2']), marker='o', label='Case 2')\n",
    "    plt.plot(x, np.log(df['Case3_1']), marker='o', label='Case 3')\n",
    "    \n",
    "    plt.title(title + ' vs Data Size for different algorithms')\n",
    "    plt.xlabel('Log Data Size in MB')\n",
    "    plt.ylabel(y_title)\n",
    "    plt.legend()\n",
    "\n",
    "    # Display the plot\n",
    "    plt.show()"
   ]
  },
  {
   "cell_type": "markdown",
   "id": "f71f0196-7512-41f8-98f4-a8444f450b99",
   "metadata": {},
   "source": [
    "# without log Y axis\n",
    "def result_plot(df, title, y_title):\n",
    "    x = np.log(df['DataSize'])\n",
    "    plt.plot(x, df['Case1'], marker='o', label='Case 1')\n",
    "    plt.plot(x, df['Case2'], marker='o', label='Case 2')\n",
    "    plt.plot(x, df['Case3'], marker='o', label='Case 3')\n",
    "    \n",
    "    plt.title(title + ' vs Data Size for different algorithms')\n",
    "    plt.xlabel('Log Data Size in MB')\n",
    "    plt.ylabel(y_title)\n",
    "    plt.legend()\n",
    "\n",
    "    # Display the plot\n",
    "    plt.show()"
   ]
  },
  {
   "cell_type": "code",
   "execution_count": null,
   "id": "6b2aea2c-065f-4531-9a0a-db88f2e4265f",
   "metadata": {},
   "outputs": [],
   "source": [
    "result3_1"
   ]
  },
  {
   "cell_type": "markdown",
   "id": "928c449a-107a-492e-a734-24550e54ddea",
   "metadata": {},
   "source": [
    "## Speed"
   ]
  },
  {
   "cell_type": "code",
   "execution_count": null,
   "id": "55265156-f300-4a89-80b4-efb5a00a5bb0",
   "metadata": {},
   "outputs": [],
   "source": [
    "speed = {'data/data_300MB.txt': [300],\n",
    " 'data/data_2.5GB.txt': [2.5*1024]\n",
    " # 'data/data_16GB.txt': [16*1024]\n",
    "        }\n",
    "results = [result1, result2, result3_1]\n",
    "for result in results:\n",
    "    for key, value in result.items():\n",
    "        speed.setdefault(key, []).append(value[0])\n",
    "df_speed = pd.DataFrame(speed.values(), columns = ['DataSize', 'Case1', 'Case2', 'Case3_1'])\n",
    "df_speed"
   ]
  },
  {
   "cell_type": "code",
   "execution_count": null,
   "id": "9bfc5d28-5da4-44a2-95b5-9b5d427f77d5",
   "metadata": {},
   "outputs": [],
   "source": [
    "result_plot(df_speed, 'Runtime', 'Log Runtime in Second')"
   ]
  },
  {
   "cell_type": "markdown",
   "id": "31a422ee-f29b-4e6a-93ef-e1df0ff42029",
   "metadata": {},
   "source": [
    "## CPU utilization"
   ]
  },
  {
   "cell_type": "code",
   "execution_count": null,
   "id": "640314b5-e0bc-4383-9950-04faae2260aa",
   "metadata": {},
   "outputs": [],
   "source": [
    "cpu = {'data/data_300MB.txt': [300],\n",
    " 'data/data_2.5GB.txt': [2.5*1024]\n",
    " # 'data/data_16GB.txt': [16*1024]\n",
    "      }\n",
    "for result in results:\n",
    "    for key, value in result.items():\n",
    "        cpu.setdefault(key, []).append(value[2])\n",
    "df_cpu = pd.DataFrame(cpu.values(), columns = ['DataSize', 'Case1', 'Case2', 'Case3_1'])\n",
    "df_cpu"
   ]
  },
  {
   "cell_type": "code",
   "execution_count": null,
   "id": "5d405b19-acaf-4e72-b739-ea802f2aef95",
   "metadata": {},
   "outputs": [],
   "source": []
  },
  {
   "cell_type": "markdown",
   "id": "06b69331-834e-479b-a0cf-a87a26706f3d",
   "metadata": {},
   "source": [
    "## Ram Utilization"
   ]
  },
  {
   "cell_type": "code",
   "execution_count": null,
   "id": "977469e5-b56b-492c-aa38-4422e498faa1",
   "metadata": {},
   "outputs": [],
   "source": [
    "ram = {'data/data_300MB.txt': [300],\n",
    " 'data/data_2.5GB.txt': [2.5*1024],\n",
    " 'data/data_16GB.txt': [16*1024]}\n",
    "for result in results:\n",
    "    for key, value in result.items():\n",
    "        ram.setdefault(key, []).append(value[2])\n",
    "        \n",
    "        "
   ]
  },
  {
   "cell_type": "code",
   "execution_count": null,
   "id": "f8adf5bb-a9e9-4b6f-905e-27256d6c6726",
   "metadata": {},
   "outputs": [],
   "source": [
    "df_ram = pd.DataFrame(ram.values(), columns = ['DataSize', 'Case1', 'Case2', 'Case3_1', 'Case3_2', 'Case4'])\n",
    "df_ram.to_csv('ram.csv')"
   ]
  },
  {
   "cell_type": "code",
   "execution_count": null,
   "id": "c6d83842-737f-4e59-92b3-6a49f9c3ab20",
   "metadata": {},
   "outputs": [],
   "source": [
    "result_plot(df_ram, 'Ram Usage', 'Log Ram Usage in MB')"
   ]
  },
  {
   "cell_type": "code",
   "execution_count": null,
   "id": "b26e6230-bc6c-45cf-b721-4defa757ba34",
   "metadata": {},
   "outputs": [],
   "source": []
  },
  {
   "cell_type": "code",
   "execution_count": null,
   "id": "b5bc9413-d5be-410f-b60a-a88f9af8d8d5",
   "metadata": {},
   "outputs": [],
   "source": []
  }
 ],
 "metadata": {
  "kernelspec": {
   "display_name": "Python 3 (ipykernel)",
   "language": "python",
   "name": "python3"
  },
  "language_info": {
   "codemirror_mode": {
    "name": "ipython",
    "version": 3
   },
   "file_extension": ".py",
   "mimetype": "text/x-python",
   "name": "python",
   "nbconvert_exporter": "python",
   "pygments_lexer": "ipython3",
   "version": "3.9.12"
  }
 },
 "nbformat": 4,
 "nbformat_minor": 5
}
