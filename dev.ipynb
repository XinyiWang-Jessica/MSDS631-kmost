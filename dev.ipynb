{
 "cells": [
  {
   "cell_type": "code",
   "execution_count": 33,
   "metadata": {},
   "outputs": [
    {
     "name": "stdout",
     "output_type": "stream",
     "text": [
      "The autoreload extension is already loaded. To reload it, use:\n",
      "  %reload_ext autoreload\n"
     ]
    }
   ],
   "source": [
    "%load_ext autoreload\n",
    "%autoreload 2"
   ]
  },
  {
   "cell_type": "code",
   "execution_count": 34,
   "metadata": {},
   "outputs": [],
   "source": [
    "from k_popular_words import KMostPopularWords\n",
    "from utils import ExperimentRunner"
   ]
  },
  {
   "cell_type": "code",
   "execution_count": 35,
   "metadata": {},
   "outputs": [],
   "source": [
    "file_path = \"data/data_300MB.txt\"\n",
    "k_most = KMostPopularWords(file_path)\n",
    "experiment_runner = ExperimentRunner()\n",
    "\n",
    "k = 10\n",
    "chunk_size = 400*1024*1024\n",
    "num_threads = 8\n"
   ]
  },
  {
   "cell_type": "code",
   "execution_count": 14,
   "metadata": {},
   "outputs": [
    {
     "name": "stdout",
     "output_type": "stream",
     "text": [
      "Running experiment: Baseline\n",
      "Runtime: 44.39 seconds\n",
      "CPU Utilization: 2.30%\n",
      "Memory Usage: 1959.52 MB\n"
     ]
    },
    {
     "data": {
      "text/plain": [
       "[('european', 318532),\n",
       " ('mr', 210638),\n",
       " ('would', 181905),\n",
       " ('also', 180117),\n",
       " ('commission', 172768),\n",
       " ('must', 156850),\n",
       " ('president', 152132),\n",
       " ('union', 130292),\n",
       " ('states', 129472),\n",
       " ('member', 126221)]"
      ]
     },
     "execution_count": 14,
     "metadata": {},
     "output_type": "execute_result"
    }
   ],
   "source": [
    "baseline_result = experiment_runner.run_experiment(\"Baseline\", k_most.get_top_k_words_baseline, k)\n",
    "baseline_result\n"
   ]
  },
  {
   "cell_type": "code",
   "execution_count": 13,
   "metadata": {},
   "outputs": [
    {
     "name": "stdout",
     "output_type": "stream",
     "text": [
      "Running experiment: Chunking\n",
      "Runtime: 31.20 seconds\n",
      "CPU Utilization: 2.20%\n",
      "Memory Usage: 1417.00 MB\n"
     ]
    },
    {
     "data": {
      "text/plain": [
       "[('european', 316722),\n",
       " ('mr', 210160),\n",
       " ('would', 179735),\n",
       " ('also', 175907),\n",
       " ('-', 162852),\n",
       " ('must', 153791),\n",
       " ('commission', 138407),\n",
       " ('president,', 125700),\n",
       " ('member', 124360),\n",
       " ('like', 108992)]"
      ]
     },
     "execution_count": 13,
     "metadata": {},
     "output_type": "execute_result"
    }
   ],
   "source": [
    "chunking_result = experiment_runner.run_experiment(\"Chunking\", k_most.get_top_k_words_chunk, k, chunk_size)\n",
    "chunking_result"
   ]
  },
  {
   "cell_type": "code",
   "execution_count": 12,
   "metadata": {},
   "outputs": [
    {
     "name": "stdout",
     "output_type": "stream",
     "text": [
      "Running experiment: Multithreading\n",
      "Runtime: 34.38 seconds\n",
      "CPU Utilization: 2.20%\n",
      "Memory Usage: 1367.30 MB\n"
     ]
    },
    {
     "data": {
      "text/plain": [
       "[('european', 316722),\n",
       " ('mr', 210160),\n",
       " ('would', 179735),\n",
       " ('also', 175907),\n",
       " ('-', 162852),\n",
       " ('must', 153791),\n",
       " ('commission', 138407),\n",
       " ('president,', 125700),\n",
       " ('member', 124360),\n",
       " ('like', 108992)]"
      ]
     },
     "execution_count": 12,
     "metadata": {},
     "output_type": "execute_result"
    }
   ],
   "source": [
    "# Looks like Mac M1 only has 1 thread per core, so multithreading has no impact on the performance\n",
    "mt_result = experiment_runner.run_experiment(\n",
    "    \"Multithreading\", k_most.get_top_k_words_chunk_mt, 10, 8, 400*1024*1024)\n",
    "mt_result"
   ]
  },
  {
   "cell_type": "code",
   "execution_count": 36,
   "metadata": {},
   "outputs": [
    {
     "name": "stdout",
     "output_type": "stream",
     "text": [
      "Running experiment: Multiprocessing\n",
      "hi\n",
      "Runtime: 14.21 seconds\n",
      "CPU Utilization: 0.60%\n",
      "Memory Usage: 79.42 MB\n"
     ]
    },
    {
     "data": {
      "text/plain": [
       "[('european', 318532),\n",
       " ('mr', 210638),\n",
       " ('would', 181905),\n",
       " ('also', 180117),\n",
       " ('commission', 172768),\n",
       " ('must', 156850),\n",
       " ('president', 152132),\n",
       " ('union', 130292),\n",
       " ('states', 129472),\n",
       " ('member', 126221)]"
      ]
     },
     "execution_count": 36,
     "metadata": {},
     "output_type": "execute_result"
    }
   ],
   "source": [
    "mp_result = experiment_runner.run_experiment(\n",
    "    \"Multiprocessing\", k_most.get_top_k_words_chunk_mp, 10, 8, chunk_size)\n",
    "mp_result\n"
   ]
  },
  {
   "cell_type": "code",
   "execution_count": 37,
   "metadata": {},
   "outputs": [
    {
     "name": "stdout",
     "output_type": "stream",
     "text": [
      "hi\n",
      "         529004 function calls in 14.658 seconds\n",
      "\n",
      "   Ordered by: standard name\n",
      "\n",
      "   ncalls  tottime  percall  cumtime  percall filename:lineno(function)\n",
      "        1    0.000    0.000    0.000    0.000 2185189129.py:11(<cell line: 11>)\n",
      "        1    0.000    0.000   14.654   14.654 2185189129.py:8(<cell line: 8>)\n",
      "        8    0.000    0.000    0.000    0.000 <frozen importlib._bootstrap>:1033(_handle_fromlist)\n",
      "       54    0.000    0.000    0.000    0.000 <frozen importlib._bootstrap>:398(parent)\n",
      "        1    0.000    0.000    0.000    0.000 _bootlocale.py:33(getpreferredencoding)\n",
      "       11    0.000    0.000    0.000    0.000 _weakrefset.py:39(_remove)\n",
      "       11    0.000    0.000    0.000    0.000 _weakrefset.py:86(add)\n",
      "        1    0.000    0.000    0.000    0.000 codecs.py:260(__init__)\n",
      "        1    0.000    0.000    0.000    0.000 codecs.py:309(__init__)\n",
      "        3    0.000    0.000    0.223    0.074 codecs.py:319(decode)\n",
      "        3    0.000    0.000    0.000    0.000 codecs.py:331(getstate)\n",
      "        2    0.002    0.001    0.002    0.001 codeop.py:142(__call__)\n",
      "        4    0.000    0.000    0.000    0.000 compilerop.py:174(extra_flags)\n",
      "        6    0.000    0.000    0.000    0.000 connection.py:122(__init__)\n",
      "        6    0.000    0.000    0.000    0.000 connection.py:135(__del__)\n",
      "       36    0.000    0.000    0.000    0.000 connection.py:139(_check_closed)\n",
      "        4    0.000    0.000    0.000    0.000 connection.py:147(_check_writable)\n",
      "       32    0.000    0.000    0.000    0.000 connection.py:163(readable)\n",
      "       32    0.000    0.000    0.000    0.000 connection.py:168(writable)\n",
      "       32    0.000    0.000    0.000    0.000 connection.py:173(fileno)\n",
      "        4    0.000    0.000    0.000    0.000 connection.py:186(send_bytes)\n",
      "        6    0.000    0.000    0.000    0.000 connection.py:365(_close)\n",
      "        4    0.000    0.000    0.000    0.000 connection.py:370(_send)\n",
      "        4    0.000    0.000    0.000    0.000 connection.py:395(_send_bytes)\n",
      "        3    0.000    0.000    0.000    0.000 connection.py:521(Pipe)\n",
      "       32    0.000    0.000    0.000    0.000 connection.py:972(reduce_connection)\n",
      "        3    0.000    0.000    0.001    0.000 context.py:110(SimpleQueue)\n",
      "        1    0.000    0.000    0.113    0.113 context.py:115(Pool)\n",
      "        9    0.000    0.000    0.000    0.000 context.py:187(get_context)\n",
      "        6    0.000    0.000    0.000    0.000 context.py:197(get_start_method)\n",
      "        1    0.000    0.000    0.000    0.000 context.py:233(get_context)\n",
      "        8    0.000    0.000    0.000    0.000 context.py:249(get_start_method)\n",
      "        8    0.001    0.000    0.102    0.013 context.py:281(_Popen)\n",
      "       96    0.000    0.000    0.000    0.000 context.py:351(get_spawning_popen)\n",
      "       16    0.000    0.000    0.000    0.000 context.py:354(set_spawning_popen)\n",
      "       48    0.000    0.000    0.000    0.000 context.py:357(assert_spawning)\n",
      "        6    0.000    0.000    0.001    0.000 context.py:65(Lock)\n",
      "        2    0.000    0.000    0.000    0.000 contextlib.py:114(__enter__)\n",
      "        2    0.000    0.000    0.000    0.000 contextlib.py:123(__exit__)\n",
      "        2    0.000    0.000    0.000    0.000 contextlib.py:261(helper)\n",
      "        2    0.000    0.000    0.000    0.000 contextlib.py:86(__init__)\n",
      "        4    0.000    0.000    0.000    0.000 dis.py:449(findlinestarts)\n",
      "        2    0.000    0.000    0.000    0.000 interactiveshell.py:1181(user_global_ns)\n",
      "        2    0.001    0.000    0.001    0.000 interactiveshell.py:3186(_update_code_co_name)\n",
      "        2    0.000    0.000    0.000    0.000 interactiveshell.py:3284(compare)\n",
      "        2    0.000    0.000   14.655    7.327 interactiveshell.py:3333(run_code)\n",
      "       35    0.000    0.000    0.006    0.000 iostream.py:208(schedule)\n",
      "        2    0.000    0.000    0.000    0.000 iostream.py:420(_is_master_process)\n",
      "        2    0.000    0.000    0.000    0.000 iostream.py:439(_schedule_flush)\n",
      "       16    0.001    0.000    0.025    0.002 iostream.py:453(flush)\n",
      "        2    0.000    0.000    0.000    0.000 iostream.py:502(write)\n",
      "       35    0.000    0.000    0.000    0.000 iostream.py:97(_event_pipe)\n",
      "        1    0.108    0.108   14.485   14.485 k_popular_words.py:113(get_top_k_words_chunk_mp)\n",
      "   140551    0.008    0.000    0.008    0.000 k_popular_words.py:132(<lambda>)\n",
      "        8    0.000    0.000    0.000    0.000 os.py:804(fsencode)\n",
      "        1    0.000    0.000    0.000    0.000 pool.py:157(__init__)\n",
      "        8    0.001    0.000    0.002    0.000 pool.py:179(Process)\n",
      "        1    0.000    0.000    0.113    0.113 pool.py:183(__init__)\n",
      "        1    0.000    0.000    0.001    0.001 pool.py:263(__del__)\n",
      "        1    0.000    0.000    0.000    0.000 pool.py:270(__repr__)\n",
      "        1    0.000    0.000    0.000    0.000 pool.py:276(_get_sentinels)\n",
      "        1    0.000    0.000    0.106    0.106 pool.py:302(_repopulate_pool)\n",
      "        1    0.001    0.001    0.106    0.106 pool.py:311(_repopulate_pool_static)\n",
      "        1    0.000    0.000    0.001    0.001 pool.py:342(_setup_queues)\n",
      "        1    0.000    0.000    0.000    0.000 pool.py:348(_check_running)\n",
      "        1    0.000    0.000   11.115   11.115 pool.py:359(map)\n",
      "        1    0.000    0.000    0.000    0.000 pool.py:468(_map_async)\n",
      "        1    0.000    0.000    0.003    0.003 pool.py:668(_help_stuff_finish)\n",
      "        1    0.000    0.000    0.147    0.147 pool.py:677(_terminate_pool)\n",
      "        1    0.000    0.000    0.000    0.000 pool.py:744(__init__)\n",
      "        1    0.000    0.000    0.000    0.000 pool.py:753(ready)\n",
      "        1    0.000    0.000   11.115   11.115 pool.py:761(wait)\n",
      "        1    0.000    0.000   11.115   11.115 pool.py:764(get)\n",
      "        1    0.000    0.000    0.000    0.000 pool.py:793(__init__)\n",
      "        8    0.001    0.000    0.101    0.013 popen_fork.py:15(__init__)\n",
      "       45    0.000    0.000    0.143    0.003 popen_fork.py:24(poll)\n",
      "        1    0.000    0.000    0.143    0.143 popen_fork.py:36(wait)\n",
      "        8    0.000    0.000    0.000    0.000 popen_fork.py:46(_send_signal)\n",
      "        8    0.000    0.000    0.000    0.000 popen_fork.py:56(terminate)\n",
      "       32    0.000    0.000    0.000    0.000 popen_spawn_posix.py:17(__init__)\n",
      "        8    0.000    0.000    0.102    0.013 popen_spawn_posix.py:30(__init__)\n",
      "       32    0.000    0.000    0.000    0.000 popen_spawn_posix.py:34(duplicate_for_child)\n",
      "        8    0.001    0.000    0.075    0.009 popen_spawn_posix.py:38(_launch)\n",
      "        8    0.001    0.000    0.103    0.013 process.py:110(start)\n",
      "        8    0.000    0.000    0.000    0.000 process.py:128(terminate)\n",
      "        1    0.000    0.000    0.143    0.143 process.py:142(join)\n",
      "        8    0.000    0.000    0.000    0.000 process.py:153(is_alive)\n",
      "       16    0.000    0.000    0.000    0.000 process.py:189(name)\n",
      "        8    0.000    0.000    0.000    0.000 process.py:193(name)\n",
      "        8    0.000    0.000    0.000    0.000 process.py:205(daemon)\n",
      "        8    0.000    0.000    0.000    0.000 process.py:213(authkey)\n",
      "        8    0.000    0.000    0.000    0.000 process.py:224(exitcode)\n",
      "        1    0.000    0.000    0.000    0.000 process.py:234(ident)\n",
      "       16    0.000    0.000    0.000    0.000 process.py:344(__reduce__)\n",
      "       22    0.000    0.000    0.000    0.000 process.py:37(current_process)\n",
      "        8    0.000    0.000    0.000    0.000 process.py:61(_cleanup)\n",
      "        8    0.001    0.000    0.001    0.000 process.py:80(__init__)\n",
      "       16    0.000    0.000    0.000    0.000 process.py:94(<genexpr>)\n",
      "       34    0.000    0.000    0.000    0.000 process.py:99(_check_closed)\n",
      "        3    0.000    0.000    0.001    0.000 queues.py:340(__init__)\n",
      "       16    0.000    0.000    0.000    0.000 queues.py:356(__getstate__)\n",
      "        4    0.000    0.000    0.000    0.000 queues.py:370(put)\n",
      "       48    0.000    0.000    0.000    0.000 random.py:237(_randbelow_with_getrandbits)\n",
      "       48    0.000    0.000    0.000    0.000 random.py:343(choice)\n",
      "       32    0.000    0.000    0.000    0.000 reduction.py:191(DupFd)\n",
      "       20    0.000    0.000    0.001    0.000 reduction.py:38(__init__)\n",
      "        4    0.000    0.000    0.000    0.000 reduction.py:48(dumps)\n",
      "       16    0.000    0.000    0.003    0.000 reduction.py:58(dump)\n",
      "       20    0.000    0.000    0.001    0.000 resource_tracker.py:134(_check_alive)\n",
      "        6    0.000    0.000    0.000    0.000 resource_tracker.py:145(register)\n",
      "        6    0.000    0.000    0.000    0.000 resource_tracker.py:149(unregister)\n",
      "       12    0.000    0.000    0.000    0.000 resource_tracker.py:153(_send)\n",
      "        8    0.000    0.000    0.001    0.000 resource_tracker.py:66(getfd)\n",
      "       20    0.000    0.000    0.001    0.000 resource_tracker.py:70(ensure_running)\n",
      "       35    0.005    0.000    0.005    0.000 socket.py:543(send)\n",
      "        8    0.000    0.000    0.000    0.000 spawn.py:132(_check_not_importing_main)\n",
      "        8    0.000    0.000    0.001    0.000 spawn.py:150(get_preparation_data)\n",
      "        8    0.000    0.000    0.000    0.000 spawn.py:45(get_executable)\n",
      "        8    0.000    0.000    0.000    0.000 spawn.py:78(get_command_line)\n",
      "       24    0.000    0.000    0.000    0.000 spawn.py:87(<genexpr>)\n",
      "        8    0.000    0.000    0.000    0.000 subprocess.py:272(_optim_args_from_interpreter_flags)\n",
      "        8    0.000    0.000    0.000    0.000 subprocess.py:282(_args_from_interpreter_flags)\n",
      "       32    0.000    0.000    0.000    0.000 synchronize.py:100(__getstate__)\n",
      "        6    0.000    0.000    0.000    0.000 synchronize.py:114(_make_name)\n",
      "        6    0.000    0.000    0.001    0.000 synchronize.py:161(__init__)\n",
      "        6    0.000    0.000    0.001    0.000 synchronize.py:50(__init__)\n",
      "        6    0.000    0.000    0.000    0.000 synchronize.py:84(_cleanup)\n",
      "        6    0.000    0.000    0.000    0.000 synchronize.py:90(_make_methods)\n",
      "        4    0.000    0.000    0.000    0.000 synchronize.py:94(__enter__)\n",
      "        4    0.000    0.000    0.000    0.000 synchronize.py:97(__exit__)\n",
      "        6    0.000    0.000    0.000    0.000 tempfile.py:138(rng)\n",
      "        6    0.000    0.000    0.000    0.000 tempfile.py:149(__next__)\n",
      "        6    0.000    0.000    0.000    0.000 tempfile.py:152(<listcomp>)\n",
      "        3    0.000    0.000    0.000    0.000 threading.py:1021(join)\n",
      "       56    0.000    0.000    0.000    0.000 threading.py:1059(_wait_for_tstate_lock)\n",
      "       53    0.000    0.000    0.000    0.000 threading.py:1126(is_alive)\n",
      "        6    0.000    0.000    0.000    0.000 threading.py:1140(daemon)\n",
      "        3    0.000    0.000    0.000    0.000 threading.py:1155(daemon)\n",
      "        3    0.000    0.000    0.000    0.000 threading.py:1222(_make_invoke_excepthook)\n",
      "        9    0.000    0.000    0.000    0.000 threading.py:1351(current_thread)\n",
      "       20    0.000    0.000    0.000    0.000 threading.py:228(__init__)\n",
      "       20    0.000    0.000    0.000    0.000 threading.py:256(__enter__)\n",
      "       20    0.000    0.000    0.000    0.000 threading.py:259(__exit__)\n",
      "       20    0.000    0.000    0.000    0.000 threading.py:265(_release_save)\n",
      "       20    0.000    0.000    0.000    0.000 threading.py:268(_acquire_restore)\n",
      "       20    0.000    0.000    0.000    0.000 threading.py:271(_is_owned)\n",
      "       20    0.000    0.000   11.137    0.557 threading.py:280(wait)\n",
      "       20    0.000    0.000    0.001    0.000 threading.py:521(__init__)\n",
      "       63    0.000    0.000    0.000    0.000 threading.py:529(is_set)\n",
      "       20    0.000    0.000   11.137    0.557 threading.py:556(wait)\n",
      "        3    0.000    0.000    0.000    0.000 threading.py:750(_newname)\n",
      "        3    0.000    0.000    0.000    0.000 threading.py:795(__init__)\n",
      "        3    0.000    0.000    0.005    0.002 threading.py:873(start)\n",
      "        3    0.000    0.000    0.000    0.000 threading.py:985(_stop)\n",
      "        2    0.000    0.000    0.000    0.000 traitlets.py:535(get)\n",
      "        2    0.000    0.000    0.000    0.000 traitlets.py:566(__get__)\n",
      "        6    0.000    0.000    0.000    0.000 util.py:171(register_after_fork)\n",
      "       15    0.001    0.000    0.001    0.000 util.py:186(__init__)\n",
      "       15    0.000    0.000    0.147    0.010 util.py:205(__call__)\n",
      "        8    0.000    0.000    0.025    0.003 util.py:433(_flush_std_streams)\n",
      "       15    0.000    0.000    0.000    0.000 util.py:44(sub_debug)\n",
      "        8    0.001    0.000    0.065    0.008 util.py:447(spawnv_passfds)\n",
      "        8    0.000    0.000    0.000    0.000 util.py:461(close_fds)\n",
      "       23    0.000    0.000    0.000    0.000 util.py:48(debug)\n",
      "        2    0.216    0.108    1.765    0.883 utils.py:24(read_file_chunks)\n",
      "        9    1.289    0.143    1.289    0.143 utils.py:49(split_text_chunks)\n",
      "        1    0.021    0.021   14.654   14.654 utils.py:8(wrapper)\n",
      "        6    0.000    0.000    0.000    0.000 weakref.py:106(remove)\n",
      "        6    0.000    0.000    0.000    0.000 weakref.py:165(__setitem__)\n",
      "        6    0.000    0.000    0.000    0.000 weakref.py:348(__new__)\n",
      "        6    0.000    0.000    0.000    0.000 weakref.py:353(__init__)\n",
      "        6    0.000    0.000    0.000    0.000 {built-in method __new__ of type object at 0x100d99a50}\n",
      "        3    0.223    0.074    0.223    0.074 {built-in method _codecs.utf_8_decode}\n",
      "       16    0.000    0.000    0.000    0.000 {built-in method _imp.lock_held}\n",
      "        1    0.000    0.000    0.000    0.000 {built-in method _locale.nl_langinfo}\n",
      "        6    0.000    0.000    0.000    0.000 {built-in method _multiprocessing.sem_unlink}\n",
      "        8    0.064    0.008    0.064    0.008 {built-in method _posixsubprocess.fork_exec}\n",
      "        4    0.000    0.000    0.000    0.000 {built-in method _struct.pack}\n",
      "       40    0.000    0.000    0.000    0.000 {built-in method _thread.allocate_lock}\n",
      "        9    0.000    0.000    0.000    0.000 {built-in method _thread.get_ident}\n",
      "        3    0.000    0.000    0.000    0.000 {built-in method _thread.start_new_thread}\n",
      "        1    0.000    0.000    0.000    0.000 {built-in method _warnings.warn}\n",
      "        6    0.000    0.000    0.000    0.000 {built-in method _weakref._remove_dead_weakref}\n",
      "        2    0.000    0.000    0.000    0.000 {built-in method builtins.compile}\n",
      "        1    0.000    0.000    0.000    0.000 {built-in method builtins.divmod}\n",
      "        2    0.000    0.000   14.654    7.327 {built-in method builtins.exec}\n",
      "      195    0.000    0.000    0.000    0.000 {built-in method builtins.getattr}\n",
      "       13    0.000    0.000    0.000    0.000 {built-in method builtins.hasattr}\n",
      "        6    0.000    0.000    0.000    0.000 {built-in method builtins.id}\n",
      "       33    0.000    0.000    0.000    0.000 {built-in method builtins.isinstance}\n",
      "       97    0.000    0.000    0.000    0.000 {built-in method builtins.len}\n",
      "       42    0.000    0.000    0.001    0.000 {built-in method builtins.next}\n",
      "        1    0.000    0.000    0.000    0.000 {built-in method builtins.print}\n",
      "        9    0.041    0.005    0.049    0.005 {built-in method builtins.sorted}\n",
      "        9    0.001    0.000    0.001    0.000 {built-in method io.open}\n",
      "       54    0.000    0.000    0.000    0.000 {built-in method posix.close}\n",
      "        8    0.000    0.000    0.000    0.000 {built-in method posix.fspath}\n",
      "        8    0.001    0.000    0.001    0.000 {built-in method posix.getcwd}\n",
      "       63    0.000    0.000    0.000    0.000 {built-in method posix.getpid}\n",
      "        8    0.000    0.000    0.000    0.000 {built-in method posix.kill}\n",
      "       27    0.000    0.000    0.000    0.000 {built-in method posix.pipe}\n",
      "       45    0.143    0.003    0.143    0.003 {built-in method posix.waitpid}\n",
      "        8    0.000    0.000    0.000    0.000 {built-in method posix.waitstatus_to_exitcode}\n",
      "       36    0.001    0.000    0.001    0.000 {built-in method posix.write}\n",
      "        4    0.000    0.000    0.000    0.000 {method '__enter__' of '_multiprocessing.SemLock' objects}\n",
      "       20    0.000    0.000    0.000    0.000 {method '__enter__' of '_thread.lock' objects}\n",
      "        9    0.000    0.000    0.000    0.000 {method '__exit__' of '_io._IOBase' objects}\n",
      "        4    0.000    0.000    0.000    0.000 {method '__exit__' of '_multiprocessing.SemLock' objects}\n",
      "        3    0.000    0.000    0.000    0.000 {method '__exit__' of '_thread.RLock' objects}\n",
      "       40    0.000    0.000    0.000    0.000 {method '__exit__' of '_thread.lock' objects}\n",
      "        1    0.003    0.003    0.003    0.003 {method 'acquire' of '_multiprocessing.SemLock' objects}\n",
      "      134   11.137    0.083   11.137    0.083 {method 'acquire' of '_thread.lock' objects}\n",
      "       19    0.000    0.000    0.000    0.000 {method 'add' of 'set' objects}\n",
      "       55    0.000    0.000    0.000    0.000 {method 'append' of 'collections.deque' objects}\n",
      "       64    0.000    0.000    0.000    0.000 {method 'append' of 'list' objects}\n",
      "       48    0.000    0.000    0.000    0.000 {method 'bit_length' of 'int' objects}\n",
      "       28    0.000    0.000    0.000    0.000 {method 'copy' of 'dict' objects}\n",
      "        8    0.000    0.000    0.000    0.000 {method 'copy' of 'list' objects}\n",
      "        1    0.000    0.000    0.000    0.000 {method 'disable' of '_lsprof.Profiler' objects}\n",
      "       19    0.000    0.000    0.000    0.000 {method 'discard' of 'set' objects}\n",
      "       20    0.001    0.000    0.003    0.000 {method 'dump' of '_pickle.Pickler' objects}\n",
      "       20    0.000    0.000    0.000    0.000 {method 'encode' of 'str' objects}\n",
      "        8    0.000    0.000    0.000    0.000 {method 'extend' of 'list' objects}\n",
      "       12    0.000    0.000    0.000    0.000 {method 'format' of 'str' objects}\n",
      "   384905    0.045    0.000    0.045    0.000 {method 'get' of 'dict' objects}\n",
      "       12    0.000    0.000    0.000    0.000 {method 'getbuffer' of '_io.BytesIO' objects}\n",
      "       91    0.000    0.000    0.000    0.000 {method 'getrandbits' of '_random.Random' objects}\n",
      "        8    0.000    0.000    0.000    0.000 {method 'index' of 'list' objects}\n",
      "       25    0.000    0.000    0.000    0.000 {method 'items' of 'dict' objects}\n",
      "       22    0.000    0.000    0.000    0.000 {method 'join' of 'str' objects}\n",
      "        3    0.000    0.000    0.000    0.000 {method 'locked' of '_thread.lock' objects}\n",
      "        1    0.000    0.000    0.000    0.000 {method 'put' of '_queue.SimpleQueue' objects}\n",
      "        2    1.043    0.522    1.267    0.633 {method 'read' of '_io.TextIOWrapper' objects}\n",
      "       23    0.000    0.000    0.000    0.000 {method 'release' of '_thread.lock' objects}\n",
      "        2    0.000    0.000    0.000    0.000 {method 'replace' of 'code' objects}\n",
      "       10    0.282    0.028    0.282    0.028 {method 'replace' of 'str' objects}\n",
      "        9    0.000    0.000    0.000    0.000 {method 'rfind' of 'str' objects}\n",
      "       54    0.000    0.000    0.000    0.000 {method 'rpartition' of 'str' objects}\n",
      "       28    0.000    0.000    0.000    0.000 {method 'update' of 'dict' objects}\n",
      "        8    0.000    0.000    0.000    0.000 {method 'write' of '_io.BufferedWriter' objects}\n",
      "\n",
      "\n"
     ]
    }
   ],
   "source": [
    "import cProfile\n",
    "profiler = cProfile.Profile()\n",
    "\n",
    "# Start profiling\n",
    "profiler.enable()\n",
    "\n",
    "# Call your function\n",
    "k_most.get_top_k_words_chunk_mp(10, 8, chunk_size)\n",
    "\n",
    "# Stop profiling\n",
    "profiler.disable()\n",
    "\n",
    "# Print the profiling results\n",
    "profiler.print_stats()\n"
   ]
  },
  {
   "cell_type": "code",
   "execution_count": null,
   "metadata": {},
   "outputs": [],
   "source": []
  }
 ],
 "metadata": {
  "kernelspec": {
   "display_name": "base",
   "language": "python",
   "name": "python3"
  },
  "language_info": {
   "codemirror_mode": {
    "name": "ipython",
    "version": 3
   },
   "file_extension": ".py",
   "mimetype": "text/x-python",
   "name": "python",
   "nbconvert_exporter": "python",
   "pygments_lexer": "ipython3",
   "version": "3.9.12"
  },
  "orig_nbformat": 4
 },
 "nbformat": 4,
 "nbformat_minor": 2
}
