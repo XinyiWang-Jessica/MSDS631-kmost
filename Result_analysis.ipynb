{
 "cells": [
  {
   "cell_type": "code",
   "execution_count": 1,
   "id": "b2731bef-0e5b-484b-b1db-59055bdcd871",
   "metadata": {},
   "outputs": [],
   "source": [
    "%load_ext autoreload\n",
    "%autoreload 2"
   ]
  },
  {
   "cell_type": "code",
   "execution_count": 2,
   "id": "a4460f04-f882-470c-b352-a3b3617dc531",
   "metadata": {},
   "outputs": [],
   "source": [
    "from k_popular_words import KMostPopularWords\n",
    "from single_task import KMostSingle\n",
    "from utils import ExperimentRunner"
   ]
  },
  {
   "cell_type": "code",
   "execution_count": 3,
   "id": "61e4d3d0-2c85-4532-853c-ed462575f472",
   "metadata": {},
   "outputs": [],
   "source": [
    "files = [\"data/data_300MB.txt\", \"data/data_2.5GB.txt\", \"data/data_16GB.txt\"]\n",
    "experiment_runner = ExperimentRunner()\n",
    "\n",
    "k = 10\n",
    "chunk_size = 400*1024*1024\n",
    "num_threads = 8\n"
   ]
  },
  {
   "cell_type": "markdown",
   "id": "387ee435-3a90-41e9-a797-81d43065902b",
   "metadata": {},
   "source": [
    "# Case 1: \n",
    "- Run as single task (without multi-thread and chunking\n",
    "- Sorting Algorithm: python sort (Tim Sort)"
   ]
  },
  {
   "cell_type": "code",
   "execution_count": 4,
   "id": "82606a15-3fcd-4dbc-8df4-d8fd55869f56",
   "metadata": {},
   "outputs": [],
   "source": [
    "result1 = {}"
   ]
  },
  {
   "cell_type": "code",
   "execution_count": 5,
   "id": "09852eef-266a-4414-a151-14732988bf67",
   "metadata": {},
   "outputs": [
    {
     "name": "stdout",
     "output_type": "stream",
     "text": [
      "Running experiment: Baselinedata/data_300MB.txt\n",
      "Runtime: 32.20 seconds\n",
      "CPU Utilization: 2.40%\n",
      "Memory Usage: 974.57 MB\n",
      "[32.20485997200012, 2.4, 974.57421875]\n",
      "[('european', 318532), ('mr', 210638), ('would', 181905), ('also', 180117), ('commission', 172768), ('must', 156850), ('president', 152132), ('union', 130292), ('states', 129472), ('member', 126221)]\n",
      "Running experiment: Baselinedata/data_2.5GB.txt\n",
      "Runtime: 413.93 seconds\n",
      "CPU Utilization: 2.00%\n",
      "Memory Usage: 2009.16 MB\n",
      "[413.9263937473297, 2.0, 2009.16015625]\n",
      "[('said', 2616235), ('one', 949399), ('would', 917205), ('new', 852788), ('also', 727930), ('last', 700206), ('people', 688742), ('mr', 659104), ('us', 643771), ('de', 643048)]\n",
      "Running experiment: Baselinedata/data_16GB.txt\n"
     ]
    }
   ],
   "source": [
    "for file_path in files:\n",
    "    try: \n",
    "        k_most = KMostPopularWords(file_path)\n",
    "        baseline_result = experiment_runner.run_experiment(\"Baseline\"+file_path, k_most.get_top_k_words_baseline, k)\n",
    "        print(experiment_runner.measure)\n",
    "        print(baseline_result)\n",
    "        result1[file_path] = experiment_runner.measure\n",
    "    except ValueError:\n",
    "        result1[file_path] = []\n"
   ]
  },
  {
   "cell_type": "code",
   "execution_count": 6,
   "id": "bc7393e9-9eea-4adf-8f0d-cf87c7cb7be9",
   "metadata": {},
   "outputs": [
    {
     "data": {
      "text/plain": [
       "{'data/data_300MB.txt': [32.20485997200012, 2.4, 974.57421875],\n",
       " 'data/data_2.5GB.txt': [413.9263937473297, 2.0, 2009.16015625],\n",
       " 'data/data_16GB.txt': []}"
      ]
     },
     "execution_count": 6,
     "metadata": {},
     "output_type": "execute_result"
    }
   ],
   "source": [
    "result1"
   ]
  },
  {
   "cell_type": "markdown",
   "id": "aafe121d-632d-4f66-b046-70e3de63bb0f",
   "metadata": {},
   "source": [
    "# Case 2: \n",
    "- Run as single task (without multi-thread and chunking\n",
    "- Sorting Algorithm: python heapq nlargest ( Sort)"
   ]
  },
  {
   "cell_type": "code",
   "execution_count": 7,
   "id": "357470db-a540-4f32-824a-d0192ac70f2d",
   "metadata": {},
   "outputs": [],
   "source": [
    "result2 = {}"
   ]
  },
  {
   "cell_type": "code",
   "execution_count": 8,
   "id": "8a506ae4-1cfd-4014-983c-d67d50e4a6ad",
   "metadata": {},
   "outputs": [
    {
     "name": "stdout",
     "output_type": "stream",
     "text": [
      "Running experiment: Baselinedata/data_300MB.txt\n",
      "Runtime: 34.83 seconds\n",
      "CPU Utilization: 2.30%\n",
      "Memory Usage: 2097.35 MB\n",
      "[34.83403706550598, 2.3, 2097.34765625]\n",
      "[('european', 318532), ('mr', 210638), ('would', 181905), ('also', 180117), ('commission', 172768), ('must', 156850), ('president', 152132), ('union', 130292), ('states', 129472), ('member', 126221)]\n",
      "Running experiment: Baselinedata/data_2.5GB.txt\n",
      "Running experiment: Baselinedata/data_16GB.txt\n"
     ]
    }
   ],
   "source": [
    "for file_path in files:\n",
    "    try: \n",
    "        k_most = KMostPopularWords(file_path)\n",
    "        baseline_result = experiment_runner.run_experiment(\"Baseline\"+file_path, k_most.get_top_k_words_baseline2, k)\n",
    "        print(experiment_runner.measure)\n",
    "        print(baseline_result)\n",
    "        result2[file_path] = experiment_runner.measure\n",
    "    except ValueError:\n",
    "        result2[file_path] = []"
   ]
  },
  {
   "cell_type": "code",
   "execution_count": 9,
   "id": "c2faab35-56fd-41ed-a058-c262a851afb9",
   "metadata": {},
   "outputs": [
    {
     "data": {
      "text/plain": [
       "{'data/data_300MB.txt': [34.83403706550598, 2.3, 2097.34765625],\n",
       " 'data/data_2.5GB.txt': [],\n",
       " 'data/data_16GB.txt': []}"
      ]
     },
     "execution_count": 9,
     "metadata": {},
     "output_type": "execute_result"
    }
   ],
   "source": [
    "result2"
   ]
  },
  {
   "cell_type": "markdown",
   "id": "2b789737-cd31-4994-a697-5b6e5535ef92",
   "metadata": {},
   "source": [
    "# Case 3:\n",
    "- Run as multi-tasks (with multi-thread and chunking)\n",
    "- Sorting Algorithm python sort (Tim Sort)"
   ]
  },
  {
   "cell_type": "code",
   "execution_count": 10,
   "id": "01b60e80-91ab-43d2-804d-38fd80fb6b02",
   "metadata": {},
   "outputs": [],
   "source": [
    "file_path = \"data/data_300MB.txt\"\n",
    "k_most = KMostPopularWords(file_path)"
   ]
  },
  {
   "cell_type": "code",
   "execution_count": 11,
   "id": "6afe1b1d-9a1f-4093-9df9-e488d224c956",
   "metadata": {},
   "outputs": [
    {
     "name": "stdout",
     "output_type": "stream",
     "text": [
      "Running experiment: Chunking\n",
      "Runtime: 17.15 seconds\n",
      "CPU Utilization: 2.40%\n",
      "Memory Usage: 2280.12 MB\n"
     ]
    },
    {
     "data": {
      "text/plain": [
       "[('european', 316722),\n",
       " ('mr', 210160),\n",
       " ('would', 179735),\n",
       " ('also', 175907),\n",
       " ('-', 162852),\n",
       " ('must', 153791),\n",
       " ('commission', 138407),\n",
       " ('president,', 125700),\n",
       " ('member', 124360),\n",
       " ('like', 108992)]"
      ]
     },
     "execution_count": 11,
     "metadata": {},
     "output_type": "execute_result"
    }
   ],
   "source": [
    "chunking_result = experiment_runner.run_experiment(\"Chunking\", k_most.get_top_k_words_chunk, k, chunk_size)\n",
    "chunking_result"
   ]
  },
  {
   "cell_type": "code",
   "execution_count": 12,
   "id": "823952f6-6a68-4cde-bbe7-e0cd1d77b6c5",
   "metadata": {},
   "outputs": [],
   "source": [
    "result3 = {}"
   ]
  },
  {
   "cell_type": "code",
   "execution_count": null,
   "id": "ac6ec5f0-7df4-4fa2-8ab9-8bc17ec175c4",
   "metadata": {},
   "outputs": [
    {
     "name": "stdout",
     "output_type": "stream",
     "text": [
      "Running experiment: Chunking-data/data_300MB.txt\n",
      "Runtime: 17.17 seconds\n",
      "CPU Utilization: 2.40%\n",
      "Memory Usage: 2846.54 MB\n",
      "[17.17476201057434, 2.4, 2846.53515625]\n",
      "[('european', 316722), ('mr', 210160), ('would', 179735), ('also', 175907), ('-', 162852), ('must', 153791), ('commission', 138407), ('president,', 125700), ('member', 124360), ('like', 108992)]\n",
      "Running experiment: Chunking-data/data_2.5GB.txt\n",
      "Runtime: 175.43 seconds\n",
      "CPU Utilization: 2.30%\n",
      "Memory Usage: 4650.02 MB\n",
      "[175.4345681667328, 2.3, 4650.0234375]\n",
      "[('said', 1575360), ('-', 1473479), ('would', 908990), ('one', 878036), ('new', 833235), ('said.', 726396), ('also', 716496), ('last', 688667), ('de', 640307), ('two', 615818)]\n",
      "Running experiment: Chunking-data/data_16GB.txt\n"
     ]
    }
   ],
   "source": [
    "for file_path in files:\n",
    "    try: \n",
    "        k_most = KMostPopularWords(file_path)\n",
    "        baseline_result = experiment_runner.run_experiment(\"Chunking-\" + file_path, k_most.get_top_k_words_chunk, k, chunk_size)\n",
    "        print(experiment_runner.measure)\n",
    "        print(baseline_result)\n",
    "        result3[file_path] = experiment_runner.measure\n",
    "    except ValueError:\n",
    "        result3[file_path] = []"
   ]
  },
  {
   "cell_type": "code",
   "execution_count": null,
   "id": "97afbe7a-57c7-47e7-afee-6a6e988ec763",
   "metadata": {},
   "outputs": [],
   "source": []
  },
  {
   "cell_type": "markdown",
   "id": "faa9d644-f2b1-413c-82a0-7da471bc0220",
   "metadata": {},
   "source": [
    "# Summary"
   ]
  },
  {
   "cell_type": "markdown",
   "id": "928c449a-107a-492e-a734-24550e54ddea",
   "metadata": {},
   "source": [
    "## Speed"
   ]
  },
  {
   "cell_type": "code",
   "execution_count": null,
   "id": "55265156-f300-4a89-80b4-efb5a00a5bb0",
   "metadata": {},
   "outputs": [],
   "source": []
  }
 ],
 "metadata": {
  "kernelspec": {
   "display_name": "Python 3 (ipykernel)",
   "language": "python",
   "name": "python3"
  },
  "language_info": {
   "codemirror_mode": {
    "name": "ipython",
    "version": 3
   },
   "file_extension": ".py",
   "mimetype": "text/x-python",
   "name": "python",
   "nbconvert_exporter": "python",
   "pygments_lexer": "ipython3",
   "version": "3.9.12"
  }
 },
 "nbformat": 4,
 "nbformat_minor": 5
}
